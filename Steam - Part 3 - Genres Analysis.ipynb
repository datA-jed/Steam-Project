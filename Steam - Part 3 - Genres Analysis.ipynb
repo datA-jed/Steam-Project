{
 "cells": [
  {
   "cell_type": "markdown",
   "metadata": {
    "application/vnd.databricks.v1+cell": {
     "cellMetadata": {},
     "inputWidgets": {},
     "nuid": "2cb6b8b9-bfe4-4868-b0a3-7615454d4296",
     "showTitle": false,
     "tableResultSettingsMap": {},
     "title": ""
    }
   },
   "source": [
    "# Part 3 - Genres Analysis"
   ]
  },
  {
   "cell_type": "code",
   "execution_count": 0,
   "metadata": {
    "application/vnd.databricks.v1+cell": {
     "cellMetadata": {
      "byteLimit": 2048000,
      "rowLimit": 10000
     },
     "inputWidgets": {},
     "nuid": "88de96ed-e6dc-41aa-8aec-8f18ad4cd313",
     "showTitle": false,
     "tableResultSettingsMap": {},
     "title": ""
    }
   },
   "outputs": [],
   "source": [
    "spark\n",
    "\n",
    "sc = spark.sparkContext"
   ]
  },
  {
   "cell_type": "code",
   "execution_count": 0,
   "metadata": {
    "application/vnd.databricks.v1+cell": {
     "cellMetadata": {
      "byteLimit": 2048000,
      "rowLimit": 10000
     },
     "inputWidgets": {},
     "nuid": "c9d80ad3-e95a-49e9-bd60-d863a274ceb0",
     "showTitle": false,
     "tableResultSettingsMap": {},
     "title": ""
    }
   },
   "outputs": [],
   "source": [
    "filepath = \"/Users/c.maulard@gmail.com/SteamProject/Steam_data_dataset_zoomed_1.json\"\n",
    "\n",
    "df = spark.read.json(filepath)"
   ]
  },
  {
   "cell_type": "code",
   "execution_count": 0,
   "metadata": {
    "application/vnd.databricks.v1+cell": {
     "cellMetadata": {
      "byteLimit": 2048000,
      "rowLimit": 10000
     },
     "inputWidgets": {},
     "nuid": "1aef8d3c-6537-4f28-8c65-0ce3a852d9ca",
     "showTitle": false,
     "tableResultSettingsMap": {},
     "title": ""
    }
   },
   "outputs": [],
   "source": [
    "from pyspark.sql import functions as F # This will load the class where spark sql functions are contained\n",
    "from pyspark.sql import Row # this will let us manipulate rows with spark sql\n",
    "from functools import reduce\n",
    "from pyspark.sql.functions import when"
   ]
  },
  {
   "cell_type": "code",
   "execution_count": 0,
   "metadata": {
    "application/vnd.databricks.v1+cell": {
     "cellMetadata": {
      "byteLimit": 2048000,
      "rowLimit": 10000
     },
     "inputWidgets": {},
     "nuid": "655ae37b-a45e-474d-8d6b-a75c81d2bbf6",
     "showTitle": false,
     "tableResultSettingsMap": {},
     "title": ""
    }
   },
   "outputs": [
    {
     "output_type": "stream",
     "name": "stdout",
     "output_type": "stream",
     "text": [
      "root\n |-- appid: long (nullable = true)\n |-- categories: array (nullable = true)\n |    |-- element: string (containsNull = true)\n |-- ccu: long (nullable = true)\n |-- developer: string (nullable = true)\n |-- discount: string (nullable = true)\n |-- genre: string (nullable = true)\n |-- header_image: string (nullable = true)\n |-- initialprice: string (nullable = true)\n |-- languages: string (nullable = true)\n |-- name: string (nullable = true)\n |-- negative: long (nullable = true)\n |-- owners: string (nullable = true)\n |-- platforms: struct (nullable = true)\n |    |-- linux: boolean (nullable = true)\n |    |-- mac: boolean (nullable = true)\n |    |-- windows: boolean (nullable = true)\n |-- positive: long (nullable = true)\n |-- price: string (nullable = true)\n |-- publisher: string (nullable = true)\n |-- release_date: string (nullable = true)\n |-- required_age: string (nullable = true)\n |-- short_description: string (nullable = true)\n |-- tags: struct (nullable = true)\n |    |-- 1980s: long (nullable = true)\n |    |-- 1990's: long (nullable = true)\n |    |-- 2.5D: long (nullable = true)\n |    |-- 2D: long (nullable = true)\n |    |-- 2D Fighter: long (nullable = true)\n |    |-- 2D Platformer: long (nullable = true)\n |    |-- 360 Video: long (nullable = true)\n |    |-- 3D: long (nullable = true)\n |    |-- 3D Fighter: long (nullable = true)\n |    |-- 3D Platformer: long (nullable = true)\n |    |-- 3D Vision: long (nullable = true)\n |    |-- 4 Player Local: long (nullable = true)\n |    |-- 4X: long (nullable = true)\n |    |-- 6DOF: long (nullable = true)\n |    |-- 8-bit Music: long (nullable = true)\n |    |-- ATV: long (nullable = true)\n |    |-- Abstract: long (nullable = true)\n |    |-- Action: long (nullable = true)\n |    |-- Action RPG: long (nullable = true)\n |    |-- Action RTS: long (nullable = true)\n |    |-- Action Roguelike: long (nullable = true)\n |    |-- Action-Adventure: long (nullable = true)\n |    |-- Addictive: long (nullable = true)\n |    |-- Adventure: long (nullable = true)\n |    |-- Agriculture: long (nullable = true)\n |    |-- Aliens: long (nullable = true)\n |    |-- Alternate History: long (nullable = true)\n |    |-- Ambient: long (nullable = true)\n |    |-- America: long (nullable = true)\n |    |-- Animation & Modeling: long (nullable = true)\n |    |-- Anime: long (nullable = true)\n |    |-- Arcade: long (nullable = true)\n |    |-- Archery: long (nullable = true)\n |    |-- Arena Shooter: long (nullable = true)\n |    |-- Artificial Intelligence: long (nullable = true)\n |    |-- Assassin: long (nullable = true)\n |    |-- Asymmetric VR: long (nullable = true)\n |    |-- Asynchronous Multiplayer: long (nullable = true)\n |    |-- Atmospheric: long (nullable = true)\n |    |-- Audio Production: long (nullable = true)\n |    |-- Auto Battler: long (nullable = true)\n |    |-- Automation: long (nullable = true)\n |    |-- Automobile Sim: long (nullable = true)\n |    |-- BMX: long (nullable = true)\n |    |-- Base-Building: long (nullable = true)\n |    |-- Baseball: long (nullable = true)\n |    |-- Based On A Novel: long (nullable = true)\n |    |-- Basketball: long (nullable = true)\n |    |-- Battle Royale: long (nullable = true)\n |    |-- Beat 'em up: long (nullable = true)\n |    |-- Beautiful: long (nullable = true)\n |    |-- Benchmark: long (nullable = true)\n |    |-- Bikes: long (nullable = true)\n |    |-- Blood: long (nullable = true)\n |    |-- Board Game: long (nullable = true)\n |    |-- Boss Rush: long (nullable = true)\n |    |-- Bowling: long (nullable = true)\n |    |-- Boxing: long (nullable = true)\n |    |-- Building: long (nullable = true)\n |    |-- Bullet Hell: long (nullable = true)\n |    |-- Bullet Time: long (nullable = true)\n |    |-- CRPG: long (nullable = true)\n |    |-- Capitalism: long (nullable = true)\n |    |-- Card Battler: long (nullable = true)\n |    |-- Card Game: long (nullable = true)\n |    |-- Cartoon: long (nullable = true)\n |    |-- Cartoony: long (nullable = true)\n |    |-- Casual: long (nullable = true)\n |    |-- Cats: long (nullable = true)\n |    |-- Character Action Game: long (nullable = true)\n |    |-- Character Customization: long (nullable = true)\n |    |-- Chess: long (nullable = true)\n |    |-- Choices Matter: long (nullable = true)\n |    |-- Choose Your Own Adventure: long (nullable = true)\n |    |-- Cinematic: long (nullable = true)\n |    |-- City Builder: long (nullable = true)\n |    |-- Class-Based: long (nullable = true)\n |    |-- Classic: long (nullable = true)\n |    |-- Clicker: long (nullable = true)\n |    |-- Co-op: long (nullable = true)\n |    |-- Co-op Campaign: long (nullable = true)\n |    |-- Coding: long (nullable = true)\n |    |-- Cold War: long (nullable = true)\n |    |-- Collectathon: long (nullable = true)\n |    |-- Colony Sim: long (nullable = true)\n |    |-- Colorful: long (nullable = true)\n |    |-- Combat: long (nullable = true)\n |    |-- Combat Racing: long (nullable = true)\n |    |-- Comedy: long (nullable = true)\n |    |-- Comic Book: long (nullable = true)\n |    |-- Competitive: long (nullable = true)\n |    |-- Conspiracy: long (nullable = true)\n |    |-- Controller: long (nullable = true)\n |    |-- Conversation: long (nullable = true)\n |    |-- Cooking: long (nullable = true)\n |    |-- Cozy: long (nullable = true)\n |    |-- Crafting: long (nullable = true)\n |    |-- Creature Collector: long (nullable = true)\n |    |-- Cricket: long (nullable = true)\n |    |-- Crime: long (nullable = true)\n |    |-- Crowdfunded: long (nullable = true)\n |    |-- Cult Classic: long (nullable = true)\n |    |-- Cute: long (nullable = true)\n |    |-- Cyberpunk: long (nullable = true)\n |    |-- Cycling: long (nullable = true)\n |    |-- Dark: long (nullable = true)\n |    |-- Dark Comedy: long (nullable = true)\n |    |-- Dark Fantasy: long (nullable = true)\n |    |-- Dark Humor: long (nullable = true)\n |    |-- Dating Sim: long (nullable = true)\n |    |-- Deckbuilding: long (nullable = true)\n |    |-- Demons: long (nullable = true)\n |    |-- Design & Illustration: long (nullable = true)\n |    |-- Destruction: long (nullable = true)\n |    |-- Detective: long (nullable = true)\n |    |-- Difficult: long (nullable = true)\n |    |-- Dinosaurs: long (nullable = true)\n |    |-- Diplomacy: long (nullable = true)\n |    |-- Documentary: long (nullable = true)\n |    |-- Dog: long (nullable = true)\n |    |-- Dragons: long (nullable = true)\n |    |-- Drama: long (nullable = true)\n |    |-- Driving: long (nullable = true)\n |    |-- Dungeon Crawler: long (nullable = true)\n |    |-- Dungeons & Dragons: long (nullable = true)\n |    |-- Dynamic Narration: long (nullable = true)\n |    |-- Dystopian : long (nullable = true)\n |    |-- Early Access: long (nullable = true)\n |    |-- Economy: long (nullable = true)\n |    |-- Education: long (nullable = true)\n |    |-- Electronic: long (nullable = true)\n |    |-- Electronic Music: long (nullable = true)\n |    |-- Emotional: long (nullable = true)\n |    |-- Epic: long (nullable = true)\n |    |-- Episodic: long (nullable = true)\n |    |-- Escape Room: long (nullable = true)\n |    |-- Experience: long (nullable = true)\n |    |-- Experimental: long (nullable = true)\n |    |-- Exploration: long (nullable = true)\n |    |-- FMV: long (nullable = true)\n |    |-- FPS: long (nullable = true)\n |    |-- Faith: long (nullable = true)\n |    |-- Family Friendly: long (nullable = true)\n |    |-- Fantasy: long (nullable = true)\n |    |-- Farming: long (nullable = true)\n |    |-- Farming Sim: long (nullable = true)\n |    |-- Fast-Paced: long (nullable = true)\n |    |-- Feature Film: long (nullable = true)\n |    |-- Female Protagonist: long (nullable = true)\n |    |-- Fighting: long (nullable = true)\n |    |-- First-Person: long (nullable = true)\n |    |-- Fishing: long (nullable = true)\n |    |-- Flight: long (nullable = true)\n |    |-- Football: long (nullable = true)\n |    |-- Foreign: long (nullable = true)\n |    |-- Free to Play: long (nullable = true)\n |    |-- Funny: long (nullable = true)\n |    |-- Futuristic: long (nullable = true)\n |    |-- Gambling: long (nullable = true)\n |    |-- Game Development: long (nullable = true)\n |    |-- GameMaker: long (nullable = true)\n |    |-- Games Workshop: long (nullable = true)\n |    |-- Gaming: long (nullable = true)\n |    |-- God Game: long (nullable = true)\n |    |-- Golf: long (nullable = true)\n |    |-- Gore: long (nullable = true)\n |    |-- Gothic: long (nullable = true)\n |    |-- Grand Strategy: long (nullable = true)\n |    |-- Great Soundtrack: long (nullable = true)\n |    |-- Grid-Based Movement: long (nullable = true)\n |    |-- Gun Customization: long (nullable = true)\n |    |-- Hack and Slash: long (nullable = true)\n |    |-- Hacking: long (nullable = true)\n |    |-- Hand-drawn: long (nullable = true)\n |    |-- Hardware: long (nullable = true)\n |    |-- Heist: long (nullable = true)\n |    |-- Hentai: long (nullable = true)\n |    |-- Hero Shooter: long (nullable = true)\n |    |-- Hex Grid: long (nullable = true)\n |    |-- Hidden Object: long (nullable = true)\n |    |-- Historical: long (nullable = true)\n |    |-- Hockey: long (nullable = true)\n |    |-- Horror: long (nullable = true)\n |    |-- Horses: long (nullable = true)\n |    |-- Hunting: long (nullable = true)\n |    |-- Idler: long (nullable = true)\n |    |-- Illuminati: long (nullable = true)\n |    |-- Immersive: long (nullable = true)\n |    |-- Immersive Sim: long (nullable = true)\n |    |-- Indie: long (nullable = true)\n |    |-- Instrumental Music: long (nullable = true)\n |    |-- Intentionally Awkward Controls: long (nullable = true)\n |    |-- Interactive Fiction: long (nullable = true)\n |    |-- Inventory Management: long (nullable = true)\n |    |-- Investigation: long (nullable = true)\n |    |-- Isometric: long (nullable = true)\n |    |-- JRPG: long (nullable = true)\n |    |-- Jet: long (nullable = true)\n |    |-- Job Simulator: long (nullable = true)\n |    |-- Jump Scare: long (nullable = true)\n |    |-- Kickstarter: long (nullable = true)\n |    |-- LEGO: long (nullable = true)\n |    |-- LGBTQ+: long (nullable = true)\n |    |-- Lemmings: long (nullable = true)\n |    |-- Level Editor: long (nullable = true)\n |    |-- Life Sim: long (nullable = true)\n |    |-- Linear: long (nullable = true)\n |    |-- Local Co-Op: long (nullable = true)\n |    |-- Local Multiplayer: long (nullable = true)\n |    |-- Logic: long (nullable = true)\n |    |-- Loot: long (nullable = true)\n |    |-- Looter Shooter: long (nullable = true)\n |    |-- Lore-Rich: long (nullable = true)\n |    |-- Lovecraftian: long (nullable = true)\n |    |-- MMORPG: long (nullable = true)\n |    |-- MOBA: long (nullable = true)\n |    |-- Magic: long (nullable = true)\n |    |-- Mahjong: long (nullable = true)\n |    |-- Management: long (nullable = true)\n |    |-- Mars: long (nullable = true)\n |    |-- Martial Arts: long (nullable = true)\n |    |-- Massively Multiplayer: long (nullable = true)\n |    |-- Masterpiece: long (nullable = true)\n |    |-- Match 3: long (nullable = true)\n |    |-- Mature: long (nullable = true)\n |    |-- Mechs: long (nullable = true)\n |    |-- Medical Sim: long (nullable = true)\n |    |-- Medieval: long (nullable = true)\n |    |-- Memes: long (nullable = true)\n |    |-- Metroidvania: long (nullable = true)\n |    |-- Military: long (nullable = true)\n |    |-- Mini Golf: long (nullable = true)\n |    |-- Minigames: long (nullable = true)\n |    |-- Minimalist: long (nullable = true)\n |    |-- Mining: long (nullable = true)\n |    |-- Mod: long (nullable = true)\n |    |-- Moddable: long (nullable = true)\n |    |-- Modern: long (nullable = true)\n |    |-- Motocross: long (nullable = true)\n |    |-- Motorbike: long (nullable = true)\n |    |-- Mouse only: long (nullable = true)\n |    |-- Movie: long (nullable = true)\n |    |-- Multiplayer: long (nullable = true)\n |    |-- Multiple Endings: long (nullable = true)\n |    |-- Music: long (nullable = true)\n |    |-- Music-Based Procedural Generation: long (nullable = true)\n |    |-- Musou: long (nullable = true)\n |    |-- Mystery: long (nullable = true)\n |    |-- Mystery Dungeon: long (nullable = true)\n |    |-- Mythology: long (nullable = true)\n |    |-- NSFW: long (nullable = true)\n |    |-- Narration: long (nullable = true)\n |    |-- Narrative: long (nullable = true)\n |    |-- Nature: long (nullable = true)\n |    |-- Naval: long (nullable = true)\n |    |-- Naval Combat: long (nullable = true)\n |    |-- Ninja: long (nullable = true)\n |    |-- Noir: long (nullable = true)\n |    |-- Nonlinear: long (nullable = true)\n |    |-- Nostalgia: long (nullable = true)\n |    |-- Nudity: long (nullable = true)\n |    |-- Offroad: long (nullable = true)\n |    |-- Old School: long (nullable = true)\n |    |-- On-Rails Shooter: long (nullable = true)\n |    |-- Online Co-Op: long (nullable = true)\n |    |-- Open World: long (nullable = true)\n |    |-- Open World Survival Craft: long (nullable = true)\n |    |-- Otome: long (nullable = true)\n |    |-- Outbreak Sim: long (nullable = true)\n |    |-- Parkour: long (nullable = true)\n |    |-- Parody : long (nullable = true)\n |    |-- Party: long (nullable = true)\n |    |-- Party Game: long (nullable = true)\n |    |-- Party-Based RPG: long (nullable = true)\n |    |-- Perma Death: long (nullable = true)\n |    |-- Philosophical: long (nullable = true)\n |    |-- Photo Editing: long (nullable = true)\n |    |-- Physics: long (nullable = true)\n |    |-- Pinball: long (nullable = true)\n |    |-- Pirates: long (nullable = true)\n |    |-- Pixel Graphics: long (nullable = true)\n |    |-- Platformer: long (nullable = true)\n |    |-- Point & Click: long (nullable = true)\n |    |-- Political: long (nullable = true)\n |    |-- Political Sim: long (nullable = true)\n |    |-- Politics: long (nullable = true)\n |    |-- Pool: long (nullable = true)\n |    |-- Post-apocalyptic: long (nullable = true)\n |    |-- Precision Platformer: long (nullable = true)\n |    |-- Procedural Generation: long (nullable = true)\n |    |-- Programming: long (nullable = true)\n |    |-- Psychedelic: long (nullable = true)\n |    |-- Psychological: long (nullable = true)\n |    |-- Psychological Horror: long (nullable = true)\n |    |-- Puzzle: long (nullable = true)\n |    |-- Puzzle-Platformer: long (nullable = true)\n |    |-- PvE: long (nullable = true)\n |    |-- PvP: long (nullable = true)\n |    |-- Quick-Time Events: long (nullable = true)\n |    |-- RPG: long (nullable = true)\n |    |-- RPGMaker: long (nullable = true)\n |    |-- RTS: long (nullable = true)\n |    |-- Racing: long (nullable = true)\n |    |-- Real Time Tactics: long (nullable = true)\n |    |-- Real-Time: long (nullable = true)\n |    |-- Real-Time with Pause: long (nullable = true)\n |    |-- Realistic: long (nullable = true)\n |    |-- Reboot: long (nullable = true)\n |    |-- Relaxing: long (nullable = true)\n |    |-- Remake: long (nullable = true)\n |    |-- Replay Value: long (nullable = true)\n |    |-- Resource Management: long (nullable = true)\n |    |-- Retro: long (nullable = true)\n |    |-- Rhythm: long (nullable = true)\n |    |-- Robots: long (nullable = true)\n |    |-- Rock Music: long (nullable = true)\n |    |-- Rogue-like: long (nullable = true)\n |    |-- Rogue-lite: long (nullable = true)\n |    |-- Roguelike Deckbuilder: long (nullable = true)\n |    |-- Roguevania: long (nullable = true)\n |    |-- Romance: long (nullable = true)\n |    |-- Rome: long (nullable = true)\n |    |-- Rugby: long (nullable = true)\n |    |-- Runner: long (nullable = true)\n |    |-- Sailing: long (nullable = true)\n |    |-- Sandbox: long (nullable = true)\n |    |-- Satire: long (nullable = true)\n |    |-- Sci-fi: long (nullable = true)\n |    |-- Science: long (nullable = true)\n |    |-- Score Attack: long (nullable = true)\n |    |-- Sequel: long (nullable = true)\n |    |-- Sexual Content: long (nullable = true)\n |    |-- Shoot 'Em Up: long (nullable = true)\n |    |-- Shooter: long (nullable = true)\n |    |-- Shop Keeper: long (nullable = true)\n |    |-- Short: long (nullable = true)\n |    |-- Side Scroller: long (nullable = true)\n |    |-- Silent Protagonist: long (nullable = true)\n |    |-- Simulation: long (nullable = true)\n |    |-- Singleplayer: long (nullable = true)\n |    |-- Skateboarding: long (nullable = true)\n |    |-- Skating: long (nullable = true)\n |    |-- Skiing: long (nullable = true)\n |    |-- Sniper: long (nullable = true)\n |    |-- Snooker: long (nullable = true)\n |    |-- Snow: long (nullable = true)\n |    |-- Snowboarding: long (nullable = true)\n |    |-- Soccer: long (nullable = true)\n |    |-- Social Deduction: long (nullable = true)\n |    |-- Software: long (nullable = true)\n |    |-- Software Training: long (nullable = true)\n |    |-- Sokoban: long (nullable = true)\n |    |-- Solitaire: long (nullable = true)\n |    |-- Souls-like: long (nullable = true)\n |    |-- Soundtrack: long (nullable = true)\n |    |-- Space: long (nullable = true)\n |    |-- Space Sim: long (nullable = true)\n |    |-- Spaceships: long (nullable = true)\n |    |-- Spectacle fighter: long (nullable = true)\n |    |-- Spelling: long (nullable = true)\n |    |-- Split Screen: long (nullable = true)\n |    |-- Sports: long (nullable = true)\n |    |-- Stealth: long (nullable = true)\n |    |-- Steam Machine: long (nullable = true)\n |    |-- Steampunk: long (nullable = true)\n |    |-- Story Rich: long (nullable = true)\n |    |-- Strategy: long (nullable = true)\n |    |-- Strategy RPG: long (nullable = true)\n |    |-- Stylized: long (nullable = true)\n |    |-- Submarine: long (nullable = true)\n |    |-- Superhero: long (nullable = true)\n |    |-- Supernatural: long (nullable = true)\n |    |-- Surreal: long (nullable = true)\n |    |-- Survival: long (nullable = true)\n |    |-- Survival Horror: long (nullable = true)\n |    |-- Swordplay: long (nullable = true)\n |    |-- Tabletop: long (nullable = true)\n |    |-- Tactical: long (nullable = true)\n |    |-- Tactical RPG: long (nullable = true)\n |    |-- Tanks: long (nullable = true)\n |    |-- Team-Based: long (nullable = true)\n |    |-- Tennis: long (nullable = true)\n |    |-- Text-Based: long (nullable = true)\n |    |-- Third Person: long (nullable = true)\n |    |-- Third-Person Shooter: long (nullable = true)\n |    |-- Thriller: long (nullable = true)\n |    |-- Tile-Matching: long (nullable = true)\n |    |-- Time Attack: long (nullable = true)\n |    |-- Time Management: long (nullable = true)\n |    |-- Time Manipulation: long (nullable = true)\n |    |-- Time Travel: long (nullable = true)\n |    |-- Top-Down: long (nullable = true)\n |    |-- Top-Down Shooter: long (nullable = true)\n |    |-- Touch-Friendly: long (nullable = true)\n |    |-- Tower Defense: long (nullable = true)\n |    |-- TrackIR: long (nullable = true)\n |    |-- Trading: long (nullable = true)\n |    |-- Trading Card Game: long (nullable = true)\n |    |-- Traditional Roguelike: long (nullable = true)\n |    |-- Trains: long (nullable = true)\n |    |-- Transhumanism: long (nullable = true)\n |    |-- Transportation: long (nullable = true)\n |    |-- Trivia: long (nullable = true)\n |    |-- Turn-Based: long (nullable = true)\n |    |-- Turn-Based Combat: long (nullable = true)\n |    |-- Turn-Based Strategy: long (nullable = true)\n |    |-- Turn-Based Tactics: long (nullable = true)\n |    |-- Tutorial: long (nullable = true)\n |    |-- Twin Stick Shooter: long (nullable = true)\n |    |-- Typing: long (nullable = true)\n |    |-- Underground: long (nullable = true)\n |    |-- Underwater: long (nullable = true)\n |    |-- Unforgiving: long (nullable = true)\n |    |-- Utilities: long (nullable = true)\n |    |-- VR: long (nullable = true)\n |    |-- VR Only: long (nullable = true)\n |    |-- Vampire: long (nullable = true)\n |    |-- Vehicular Combat: long (nullable = true)\n |    |-- Video Production: long (nullable = true)\n |    |-- Vikings: long (nullable = true)\n |    |-- Villain Protagonist: long (nullable = true)\n |    |-- Violent: long (nullable = true)\n |    |-- Visual Novel: long (nullable = true)\n |    |-- Voice Control: long (nullable = true)\n |    |-- Volleyball: long (nullable = true)\n |    |-- Voxel: long (nullable = true)\n |    |-- Walking Simulator: long (nullable = true)\n |    |-- War: long (nullable = true)\n |    |-- Wargame: long (nullable = true)\n |    |-- Warhammer 40K: long (nullable = true)\n |    |-- Web Publishing: long (nullable = true)\n |    |-- Well-Written: long (nullable = true)\n |    |-- Werewolves: long (nullable = true)\n |    |-- Western: long (nullable = true)\n |    |-- Wholesome: long (nullable = true)\n |    |-- Word Game: long (nullable = true)\n |    |-- World War I: long (nullable = true)\n |    |-- World War II: long (nullable = true)\n |    |-- Wrestling: long (nullable = true)\n |    |-- Zombies: long (nullable = true)\n |    |-- e-sports: long (nullable = true)\n |-- type: string (nullable = true)\n |-- website: string (nullable = true)\n\n"
     ]
    }
   ],
   "source": [
    "df.printSchema()"
   ]
  },
  {
   "cell_type": "code",
   "execution_count": 0,
   "metadata": {
    "application/vnd.databricks.v1+cell": {
     "cellMetadata": {
      "byteLimit": 2048000,
      "rowLimit": 10000
     },
     "inputWidgets": {},
     "nuid": "7525b0b1-013c-4f59-a6f4-1af679b0b2e5",
     "showTitle": false,
     "tableResultSettingsMap": {},
     "title": ""
    }
   },
   "outputs": [
    {
     "output_type": "display_data",
     "data": {
      "text/html": [
       "<style scoped>\n",
       "  .table-result-container {\n",
       "    max-height: 300px;\n",
       "    overflow: auto;\n",
       "  }\n",
       "  table, th, td {\n",
       "    border: 1px solid black;\n",
       "    border-collapse: collapse;\n",
       "  }\n",
       "  th, td {\n",
       "    padding: 5px;\n",
       "  }\n",
       "  th {\n",
       "    text-align: left;\n",
       "  }\n",
       "</style><div class='table-result-container'><table class='table-result'><thead style='background-color: white'><tr><th>genre</th></tr></thead><tbody><tr><td>Action</td></tr><tr><td>Action, Adventure, Indie</td></tr><tr><td>Adventure, Indie, RPG, Strategy</td></tr><tr><td>Action, Indie, Simulation, Strategy</td></tr><tr><td>Action, Casual, Indie, Simulation</td></tr><tr><td>Action, Adventure, Indie, RPG</td></tr><tr><td>Adventure, Indie, RPG, Strategy</td></tr><tr><td>Action, Adventure, Casual, Free to Play, Massively Multiplayer</td></tr><tr><td>Casual, Indie</td></tr><tr><td>Indie, RPG</td></tr></tbody></table></div>"
      ]
     },
     "metadata": {
      "application/vnd.databricks.v1+output": {
       "addedWidgets": {},
       "aggData": [],
       "aggError": "",
       "aggOverflow": false,
       "aggSchema": [],
       "aggSeriesLimitReached": false,
       "aggType": "",
       "arguments": {},
       "columnCustomDisplayInfos": {},
       "data": [
        [
         "Action"
        ],
        [
         "Action, Adventure, Indie"
        ],
        [
         "Adventure, Indie, RPG, Strategy"
        ],
        [
         "Action, Indie, Simulation, Strategy"
        ],
        [
         "Action, Casual, Indie, Simulation"
        ],
        [
         "Action, Adventure, Indie, RPG"
        ],
        [
         "Adventure, Indie, RPG, Strategy"
        ],
        [
         "Action, Adventure, Casual, Free to Play, Massively Multiplayer"
        ],
        [
         "Casual, Indie"
        ],
        [
         "Indie, RPG"
        ]
       ],
       "datasetInfos": [],
       "dbfsResultPath": null,
       "isJsonSchema": true,
       "metadata": {},
       "overflow": false,
       "plotOptions": {
        "customPlotOptions": {},
        "displayType": "table",
        "pivotAggregation": null,
        "pivotColumns": null,
        "xColumns": null,
        "yColumns": null
       },
       "removedWidgets": [],
       "schema": [
        {
         "metadata": "{}",
         "name": "genre",
         "type": "\"string\""
        }
       ],
       "type": "table"
      }
     },
     "output_type": "display_data"
    }
   ],
   "source": [
    "df.select('genre').limit(10).display()"
   ]
  },
  {
   "cell_type": "code",
   "execution_count": 0,
   "metadata": {
    "application/vnd.databricks.v1+cell": {
     "cellMetadata": {
      "byteLimit": 2048000,
      "rowLimit": 10000
     },
     "inputWidgets": {},
     "nuid": "72fe4473-9843-44cc-b7cc-c6e0ac16002c",
     "showTitle": false,
     "tableResultSettingsMap": {},
     "title": ""
    }
   },
   "outputs": [
    {
     "output_type": "display_data",
     "data": {
      "text/html": [
       "<div>\n",
       "<style scoped>\n",
       "    .dataframe tbody tr th:only-of-type {\n",
       "        vertical-align: middle;\n",
       "    }\n",
       "\n",
       "    .dataframe tbody tr th {\n",
       "        vertical-align: top;\n",
       "    }\n",
       "\n",
       "    .dataframe thead th {\n",
       "        text-align: right;\n",
       "    }\n",
       "</style>\n",
       "<table border=\"1\" class=\"dataframe\">\n",
       "  <thead>\n",
       "    <tr style=\"text-align: right;\">\n",
       "      <th></th>\n",
       "      <th>appid</th>\n",
       "      <th>categories</th>\n",
       "      <th>ccu</th>\n",
       "      <th>developer</th>\n",
       "      <th>discount</th>\n",
       "      <th>genre</th>\n",
       "      <th>initialprice</th>\n",
       "      <th>languages</th>\n",
       "      <th>name</th>\n",
       "      <th>negative</th>\n",
       "      <th>owners</th>\n",
       "      <th>positive</th>\n",
       "      <th>price</th>\n",
       "      <th>publisher</th>\n",
       "      <th>release_date</th>\n",
       "      <th>required_age</th>\n",
       "    </tr>\n",
       "  </thead>\n",
       "  <tbody>\n",
       "    <tr>\n",
       "      <th>0</th>\n",
       "      <td>10</td>\n",
       "      <td>[Multi-player, Valve Anti-Cheat enabled, Onlin...</td>\n",
       "      <td>13990</td>\n",
       "      <td>Valve</td>\n",
       "      <td>0</td>\n",
       "      <td>Action</td>\n",
       "      <td>999</td>\n",
       "      <td>English, French, German, Italian, Spanish - Sp...</td>\n",
       "      <td>Counter-Strike</td>\n",
       "      <td>5199</td>\n",
       "      <td>10,000,000 .. 20,000,000</td>\n",
       "      <td>201215</td>\n",
       "      <td>999</td>\n",
       "      <td>Valve</td>\n",
       "      <td>2000/11/1</td>\n",
       "      <td>0</td>\n",
       "    </tr>\n",
       "    <tr>\n",
       "      <th>1</th>\n",
       "      <td>1000000</td>\n",
       "      <td>[Single-player, Partial Controller Support, St...</td>\n",
       "      <td>0</td>\n",
       "      <td>IndigoBlue Game Studio</td>\n",
       "      <td>0</td>\n",
       "      <td>Action, Adventure, Indie</td>\n",
       "      <td>999</td>\n",
       "      <td>English, Korean, Simplified Chinese</td>\n",
       "      <td>ASCENXION</td>\n",
       "      <td>5</td>\n",
       "      <td>0 .. 20,000</td>\n",
       "      <td>27</td>\n",
       "      <td>999</td>\n",
       "      <td>PsychoFlux Entertainment</td>\n",
       "      <td>2021/05/14</td>\n",
       "      <td>0</td>\n",
       "    </tr>\n",
       "    <tr>\n",
       "      <th>2</th>\n",
       "      <td>1000010</td>\n",
       "      <td>[Single-player, Partial Controller Support, St...</td>\n",
       "      <td>99</td>\n",
       "      <td>NEXT Studios</td>\n",
       "      <td>70</td>\n",
       "      <td>Adventure, Indie, RPG, Strategy</td>\n",
       "      <td>1999</td>\n",
       "      <td>Simplified Chinese, English, Japanese, Traditi...</td>\n",
       "      <td>Crown Trick</td>\n",
       "      <td>646</td>\n",
       "      <td>200,000 .. 500,000</td>\n",
       "      <td>4032</td>\n",
       "      <td>599</td>\n",
       "      <td>Team17, NEXT Studios</td>\n",
       "      <td>2020/10/16</td>\n",
       "      <td>0</td>\n",
       "    </tr>\n",
       "    <tr>\n",
       "      <th>3</th>\n",
       "      <td>1000030</td>\n",
       "      <td>[Multi-player, Single-player, Co-op, Steam Ach...</td>\n",
       "      <td>76</td>\n",
       "      <td>Vertigo Gaming Inc.</td>\n",
       "      <td>0</td>\n",
       "      <td>Action, Indie, Simulation, Strategy</td>\n",
       "      <td>1999</td>\n",
       "      <td>English</td>\n",
       "      <td>Cook, Serve, Delicious! 3?!</td>\n",
       "      <td>115</td>\n",
       "      <td>100,000 .. 200,000</td>\n",
       "      <td>1575</td>\n",
       "      <td>1999</td>\n",
       "      <td>Vertigo Gaming Inc.</td>\n",
       "      <td>2020/10/14</td>\n",
       "      <td>0</td>\n",
       "    </tr>\n",
       "    <tr>\n",
       "      <th>4</th>\n",
       "      <td>1000040</td>\n",
       "      <td>[Single-player]</td>\n",
       "      <td>0</td>\n",
       "      <td>DoubleC Games</td>\n",
       "      <td>0</td>\n",
       "      <td>Action, Casual, Indie, Simulation</td>\n",
       "      <td>199</td>\n",
       "      <td>Simplified Chinese</td>\n",
       "      <td>细胞战争</td>\n",
       "      <td>1</td>\n",
       "      <td>0 .. 20,000</td>\n",
       "      <td>0</td>\n",
       "      <td>199</td>\n",
       "      <td>DoubleC Games</td>\n",
       "      <td>2019/03/30</td>\n",
       "      <td>0</td>\n",
       "    </tr>\n",
       "  </tbody>\n",
       "</table>\n",
       "</div>"
      ]
     },
     "metadata": {
      "application/vnd.databricks.v1+output": {
       "addedWidgets": {},
       "arguments": {},
       "data": "<div>\n<style scoped>\n    .dataframe tbody tr th:only-of-type {\n        vertical-align: middle;\n    }\n\n    .dataframe tbody tr th {\n        vertical-align: top;\n    }\n\n    .dataframe thead th {\n        text-align: right;\n    }\n</style>\n<table border=\"1\" class=\"dataframe\">\n  <thead>\n    <tr style=\"text-align: right;\">\n      <th></th>\n      <th>appid</th>\n      <th>categories</th>\n      <th>ccu</th>\n      <th>developer</th>\n      <th>discount</th>\n      <th>genre</th>\n      <th>initialprice</th>\n      <th>languages</th>\n      <th>name</th>\n      <th>negative</th>\n      <th>owners</th>\n      <th>positive</th>\n      <th>price</th>\n      <th>publisher</th>\n      <th>release_date</th>\n      <th>required_age</th>\n    </tr>\n  </thead>\n  <tbody>\n    <tr>\n      <th>0</th>\n      <td>10</td>\n      <td>[Multi-player, Valve Anti-Cheat enabled, Onlin...</td>\n      <td>13990</td>\n      <td>Valve</td>\n      <td>0</td>\n      <td>Action</td>\n      <td>999</td>\n      <td>English, French, German, Italian, Spanish - Sp...</td>\n      <td>Counter-Strike</td>\n      <td>5199</td>\n      <td>10,000,000 .. 20,000,000</td>\n      <td>201215</td>\n      <td>999</td>\n      <td>Valve</td>\n      <td>2000/11/1</td>\n      <td>0</td>\n    </tr>\n    <tr>\n      <th>1</th>\n      <td>1000000</td>\n      <td>[Single-player, Partial Controller Support, St...</td>\n      <td>0</td>\n      <td>IndigoBlue Game Studio</td>\n      <td>0</td>\n      <td>Action, Adventure, Indie</td>\n      <td>999</td>\n      <td>English, Korean, Simplified Chinese</td>\n      <td>ASCENXION</td>\n      <td>5</td>\n      <td>0 .. 20,000</td>\n      <td>27</td>\n      <td>999</td>\n      <td>PsychoFlux Entertainment</td>\n      <td>2021/05/14</td>\n      <td>0</td>\n    </tr>\n    <tr>\n      <th>2</th>\n      <td>1000010</td>\n      <td>[Single-player, Partial Controller Support, St...</td>\n      <td>99</td>\n      <td>NEXT Studios</td>\n      <td>70</td>\n      <td>Adventure, Indie, RPG, Strategy</td>\n      <td>1999</td>\n      <td>Simplified Chinese, English, Japanese, Traditi...</td>\n      <td>Crown Trick</td>\n      <td>646</td>\n      <td>200,000 .. 500,000</td>\n      <td>4032</td>\n      <td>599</td>\n      <td>Team17, NEXT Studios</td>\n      <td>2020/10/16</td>\n      <td>0</td>\n    </tr>\n    <tr>\n      <th>3</th>\n      <td>1000030</td>\n      <td>[Multi-player, Single-player, Co-op, Steam Ach...</td>\n      <td>76</td>\n      <td>Vertigo Gaming Inc.</td>\n      <td>0</td>\n      <td>Action, Indie, Simulation, Strategy</td>\n      <td>1999</td>\n      <td>English</td>\n      <td>Cook, Serve, Delicious! 3?!</td>\n      <td>115</td>\n      <td>100,000 .. 200,000</td>\n      <td>1575</td>\n      <td>1999</td>\n      <td>Vertigo Gaming Inc.</td>\n      <td>2020/10/14</td>\n      <td>0</td>\n    </tr>\n    <tr>\n      <th>4</th>\n      <td>1000040</td>\n      <td>[Single-player]</td>\n      <td>0</td>\n      <td>DoubleC Games</td>\n      <td>0</td>\n      <td>Action, Casual, Indie, Simulation</td>\n      <td>199</td>\n      <td>Simplified Chinese</td>\n      <td>细胞战争</td>\n      <td>1</td>\n      <td>0 .. 20,000</td>\n      <td>0</td>\n      <td>199</td>\n      <td>DoubleC Games</td>\n      <td>2019/03/30</td>\n      <td>0</td>\n    </tr>\n  </tbody>\n</table>\n</div>",
       "datasetInfos": [],
       "metadata": {},
       "removedWidgets": [],
       "textData": null,
       "type": "htmlSandbox"
      }
     },
     "output_type": "display_data"
    }
   ],
   "source": [
    "col_to_drop = ['tags', 'header_image', 'platforms', 'short_description', 'type', 'website']\n",
    "\n",
    "def dropCol(df, col_name):\n",
    "  return df.drop(*col_name)\n",
    "\n",
    "df_genre = dropCol(df, col_to_drop)\n",
    "df_genre.limit(5).toPandas()"
   ]
  },
  {
   "cell_type": "code",
   "execution_count": 0,
   "metadata": {
    "application/vnd.databricks.v1+cell": {
     "cellMetadata": {
      "byteLimit": 2048000,
      "rowLimit": 10000
     },
     "inputWidgets": {},
     "nuid": "8aee0e05-2145-459f-8453-ff7f665dd2d4",
     "showTitle": false,
     "tableResultSettingsMap": {},
     "title": ""
    }
   },
   "outputs": [
    {
     "output_type": "display_data",
     "data": {
      "text/html": [
       "<style scoped>\n",
       "  .table-result-container {\n",
       "    max-height: 300px;\n",
       "    overflow: auto;\n",
       "  }\n",
       "  table, th, td {\n",
       "    border: 1px solid black;\n",
       "    border-collapse: collapse;\n",
       "  }\n",
       "  th, td {\n",
       "    padding: 5px;\n",
       "  }\n",
       "  th {\n",
       "    text-align: left;\n",
       "  }\n",
       "</style><div class='table-result-container'><table class='table-result'><thead style='background-color: white'><tr><th>appid</th><th>categories</th><th>ccu</th><th>developer</th><th>discount</th><th>genre</th><th>initialprice</th><th>languages</th><th>name</th><th>negative</th><th>owners</th><th>positive</th><th>price</th><th>publisher</th><th>release_date</th><th>required_age</th></tr></thead><tbody><tr><td>10</td><td>List(Multi-player, Valve Anti-Cheat enabled, Online PvP, Shared/Split Screen PvP, PvP)</td><td>13990</td><td>Valve</td><td>0</td><td>List(Action)</td><td>999</td><td>English, French, German, Italian, Spanish - Spain, Simplified Chinese, Traditional Chinese, Korean</td><td>Counter-Strike</td><td>5199</td><td>10,000,000 .. 20,000,000</td><td>201215</td><td>999</td><td>Valve</td><td>2000/11/1</td><td>0</td></tr><tr><td>1000000</td><td>List(Single-player, Partial Controller Support, Steam Achievements, Steam Cloud)</td><td>0</td><td>IndigoBlue Game Studio</td><td>0</td><td>List(Action, Adventure, Indie)</td><td>999</td><td>English, Korean, Simplified Chinese</td><td>ASCENXION</td><td>5</td><td>0 .. 20,000</td><td>27</td><td>999</td><td>PsychoFlux Entertainment</td><td>2021/05/14</td><td>0</td></tr><tr><td>1000010</td><td>List(Single-player, Partial Controller Support, Steam Achievements, Steam Cloud, Steam Trading Cards)</td><td>99</td><td>NEXT Studios</td><td>70</td><td>List(Adventure, Indie, RPG, Strategy)</td><td>1999</td><td>Simplified Chinese, English, Japanese, Traditional Chinese, French, German, Spanish - Spain, Russian, Portuguese - Brazil</td><td>Crown Trick</td><td>646</td><td>200,000 .. 500,000</td><td>4032</td><td>599</td><td>Team17, NEXT Studios</td><td>2020/10/16</td><td>0</td></tr><tr><td>1000030</td><td>List(Multi-player, Single-player, Co-op, Steam Achievements, Steam Cloud, Shared/Split Screen, Full controller support, Steam Trading Cards, Shared/Split Screen Co-op, Remote Play on Phone, Remote Play on Tablet, Remote Play on TV, Remote Play Together)</td><td>76</td><td>Vertigo Gaming Inc.</td><td>0</td><td>List(Action, Indie, Simulation, Strategy)</td><td>1999</td><td>English</td><td>Cook, Serve, Delicious! 3?!</td><td>115</td><td>100,000 .. 200,000</td><td>1575</td><td>1999</td><td>Vertigo Gaming Inc.</td><td>2020/10/14</td><td>0</td></tr><tr><td>1000040</td><td>List(Single-player)</td><td>0</td><td>DoubleC Games</td><td>0</td><td>List(Action, Casual, Indie, Simulation)</td><td>199</td><td>Simplified Chinese</td><td>细胞战争</td><td>1</td><td>0 .. 20,000</td><td>0</td><td>199</td><td>DoubleC Games</td><td>2019/03/30</td><td>0</td></tr></tbody></table></div>"
      ]
     },
     "metadata": {
      "application/vnd.databricks.v1+output": {
       "addedWidgets": {},
       "aggData": [],
       "aggError": "",
       "aggOverflow": false,
       "aggSchema": [],
       "aggSeriesLimitReached": false,
       "aggType": "",
       "arguments": {},
       "columnCustomDisplayInfos": {},
       "data": [
        [
         10,
         [
          "Multi-player",
          "Valve Anti-Cheat enabled",
          "Online PvP",
          "Shared/Split Screen PvP",
          "PvP"
         ],
         13990,
         "Valve",
         "0",
         [
          "Action"
         ],
         "999",
         "English, French, German, Italian, Spanish - Spain, Simplified Chinese, Traditional Chinese, Korean",
         "Counter-Strike",
         5199,
         "10,000,000 .. 20,000,000",
         201215,
         "999",
         "Valve",
         "2000/11/1",
         "0"
        ],
        [
         1000000,
         [
          "Single-player",
          "Partial Controller Support",
          "Steam Achievements",
          "Steam Cloud"
         ],
         0,
         "IndigoBlue Game Studio",
         "0",
         [
          "Action",
          "Adventure",
          "Indie"
         ],
         "999",
         "English, Korean, Simplified Chinese",
         "ASCENXION",
         5,
         "0 .. 20,000",
         27,
         "999",
         "PsychoFlux Entertainment",
         "2021/05/14",
         "0"
        ],
        [
         1000010,
         [
          "Single-player",
          "Partial Controller Support",
          "Steam Achievements",
          "Steam Cloud",
          "Steam Trading Cards"
         ],
         99,
         "NEXT Studios",
         "70",
         [
          "Adventure",
          "Indie",
          "RPG",
          "Strategy"
         ],
         "1999",
         "Simplified Chinese, English, Japanese, Traditional Chinese, French, German, Spanish - Spain, Russian, Portuguese - Brazil",
         "Crown Trick",
         646,
         "200,000 .. 500,000",
         4032,
         "599",
         "Team17, NEXT Studios",
         "2020/10/16",
         "0"
        ],
        [
         1000030,
         [
          "Multi-player",
          "Single-player",
          "Co-op",
          "Steam Achievements",
          "Steam Cloud",
          "Shared/Split Screen",
          "Full controller support",
          "Steam Trading Cards",
          "Shared/Split Screen Co-op",
          "Remote Play on Phone",
          "Remote Play on Tablet",
          "Remote Play on TV",
          "Remote Play Together"
         ],
         76,
         "Vertigo Gaming Inc.",
         "0",
         [
          "Action",
          "Indie",
          "Simulation",
          "Strategy"
         ],
         "1999",
         "English",
         "Cook, Serve, Delicious! 3?!",
         115,
         "100,000 .. 200,000",
         1575,
         "1999",
         "Vertigo Gaming Inc.",
         "2020/10/14",
         "0"
        ],
        [
         1000040,
         [
          "Single-player"
         ],
         0,
         "DoubleC Games",
         "0",
         [
          "Action",
          "Casual",
          "Indie",
          "Simulation"
         ],
         "199",
         "Simplified Chinese",
         "细胞战争",
         1,
         "0 .. 20,000",
         0,
         "199",
         "DoubleC Games",
         "2019/03/30",
         "0"
        ]
       ],
       "datasetInfos": [],
       "dbfsResultPath": null,
       "isJsonSchema": true,
       "metadata": {},
       "overflow": false,
       "plotOptions": {
        "customPlotOptions": {},
        "displayType": "table",
        "pivotAggregation": null,
        "pivotColumns": null,
        "xColumns": null,
        "yColumns": null
       },
       "removedWidgets": [],
       "schema": [
        {
         "metadata": "{}",
         "name": "appid",
         "type": "\"long\""
        },
        {
         "metadata": "{}",
         "name": "categories",
         "type": "{\"type\":\"array\",\"elementType\":\"string\",\"containsNull\":true}"
        },
        {
         "metadata": "{}",
         "name": "ccu",
         "type": "\"long\""
        },
        {
         "metadata": "{}",
         "name": "developer",
         "type": "\"string\""
        },
        {
         "metadata": "{}",
         "name": "discount",
         "type": "\"string\""
        },
        {
         "metadata": "{}",
         "name": "genre",
         "type": "{\"type\":\"array\",\"elementType\":\"string\",\"containsNull\":false}"
        },
        {
         "metadata": "{}",
         "name": "initialprice",
         "type": "\"string\""
        },
        {
         "metadata": "{}",
         "name": "languages",
         "type": "\"string\""
        },
        {
         "metadata": "{}",
         "name": "name",
         "type": "\"string\""
        },
        {
         "metadata": "{}",
         "name": "negative",
         "type": "\"long\""
        },
        {
         "metadata": "{}",
         "name": "owners",
         "type": "\"string\""
        },
        {
         "metadata": "{}",
         "name": "positive",
         "type": "\"long\""
        },
        {
         "metadata": "{}",
         "name": "price",
         "type": "\"string\""
        },
        {
         "metadata": "{}",
         "name": "publisher",
         "type": "\"string\""
        },
        {
         "metadata": "{}",
         "name": "release_date",
         "type": "\"string\""
        },
        {
         "metadata": "{}",
         "name": "required_age",
         "type": "\"string\""
        }
       ],
       "type": "table"
      }
     },
     "output_type": "display_data"
    }
   ],
   "source": [
    "df_genres = df_genre.withColumn(\"genre\",F.split(df_genre[\"genre\"], \", \"))\n",
    "\n",
    "df_genres.limit(5).display()"
   ]
  },
  {
   "cell_type": "markdown",
   "metadata": {
    "application/vnd.databricks.v1+cell": {
     "cellMetadata": {},
     "inputWidgets": {},
     "nuid": "0de2794f-a0b5-4b27-b701-0898bc5f5d6d",
     "showTitle": false,
     "tableResultSettingsMap": {},
     "title": ""
    }
   },
   "source": [
    "### What are the most represented genres?\n",
    "### \n"
   ]
  },
  {
   "cell_type": "code",
   "execution_count": 0,
   "metadata": {
    "application/vnd.databricks.v1+cell": {
     "cellMetadata": {
      "byteLimit": 2048000,
      "rowLimit": 10000
     },
     "inputWidgets": {},
     "nuid": "0a6813c9-9387-484a-8eed-08c65cc5592b",
     "showTitle": false,
     "tableResultSettingsMap": {},
     "title": ""
    }
   },
   "outputs": [
    {
     "output_type": "display_data",
     "data": {
      "text/html": [
       "<style scoped>\n",
       "  .table-result-container {\n",
       "    max-height: 300px;\n",
       "    overflow: auto;\n",
       "  }\n",
       "  table, th, td {\n",
       "    border: 1px solid black;\n",
       "    border-collapse: collapse;\n",
       "  }\n",
       "  th, td {\n",
       "    padding: 5px;\n",
       "  }\n",
       "  th {\n",
       "    text-align: left;\n",
       "  }\n",
       "</style><div class='table-result-container'><table class='table-result'><thead style='background-color: white'><tr><th>name</th><th>genre</th></tr></thead><tbody><tr><td>Counter-Strike</td><td>Action</td></tr><tr><td>ASCENXION</td><td>Action</td></tr><tr><td>ASCENXION</td><td>Adventure</td></tr><tr><td>ASCENXION</td><td>Indie</td></tr><tr><td>Crown Trick</td><td>Adventure</td></tr><tr><td>Crown Trick</td><td>Indie</td></tr><tr><td>Crown Trick</td><td>RPG</td></tr><tr><td>Crown Trick</td><td>Strategy</td></tr><tr><td>Cook, Serve, Delicious! 3?!</td><td>Action</td></tr><tr><td>Cook, Serve, Delicious! 3?!</td><td>Indie</td></tr></tbody></table></div>"
      ]
     },
     "metadata": {
      "application/vnd.databricks.v1+output": {
       "addedWidgets": {},
       "aggData": [],
       "aggError": "",
       "aggOverflow": false,
       "aggSchema": [],
       "aggSeriesLimitReached": false,
       "aggType": "",
       "arguments": {},
       "columnCustomDisplayInfos": {},
       "data": [
        [
         "Counter-Strike",
         "Action"
        ],
        [
         "ASCENXION",
         "Action"
        ],
        [
         "ASCENXION",
         "Adventure"
        ],
        [
         "ASCENXION",
         "Indie"
        ],
        [
         "Crown Trick",
         "Adventure"
        ],
        [
         "Crown Trick",
         "Indie"
        ],
        [
         "Crown Trick",
         "RPG"
        ],
        [
         "Crown Trick",
         "Strategy"
        ],
        [
         "Cook, Serve, Delicious! 3?!",
         "Action"
        ],
        [
         "Cook, Serve, Delicious! 3?!",
         "Indie"
        ]
       ],
       "datasetInfos": [],
       "dbfsResultPath": null,
       "isJsonSchema": true,
       "metadata": {},
       "overflow": false,
       "plotOptions": {
        "customPlotOptions": {},
        "displayType": "table",
        "pivotAggregation": null,
        "pivotColumns": null,
        "xColumns": null,
        "yColumns": null
       },
       "removedWidgets": [],
       "schema": [
        {
         "metadata": "{}",
         "name": "name",
         "type": "\"string\""
        },
        {
         "metadata": "{}",
         "name": "genre",
         "type": "\"string\""
        }
       ],
       "type": "table"
      }
     },
     "output_type": "display_data"
    }
   ],
   "source": [
    "df_genres_count = df_genres.select('name', F.explode('genre').alias('genre'))\n",
    "display(df_genres_count.limit(10))"
   ]
  },
  {
   "cell_type": "code",
   "execution_count": 0,
   "metadata": {
    "application/vnd.databricks.v1+cell": {
     "cellMetadata": {
      "byteLimit": 2048000,
      "rowLimit": 10000
     },
     "inputWidgets": {},
     "nuid": "b98dcb91-c60e-4067-8f3c-030cb68b0630",
     "showTitle": false,
     "tableResultSettingsMap": {},
     "title": ""
    }
   },
   "outputs": [
    {
     "output_type": "stream",
     "name": "stdout",
     "output_type": "stream",
     "text": [
      "29"
     ]
    }
   ],
   "source": [
    "game_count_genres = df_genres_count.select('genre').distinct().count()\n",
    "\n",
    "display(game_count_genres)"
   ]
  },
  {
   "cell_type": "code",
   "execution_count": 0,
   "metadata": {
    "application/vnd.databricks.v1+cell": {
     "cellMetadata": {
      "byteLimit": 2048000,
      "rowLimit": 10000
     },
     "inputWidgets": {},
     "nuid": "259ade02-2b1b-44af-9f85-2ed16e9b3dc4",
     "showTitle": false,
     "tableResultSettingsMap": {},
     "title": ""
    }
   },
   "outputs": [
    {
     "output_type": "display_data",
     "data": {
      "text/html": [
       "<style scoped>\n",
       "  .table-result-container {\n",
       "    max-height: 300px;\n",
       "    overflow: auto;\n",
       "  }\n",
       "  table, th, td {\n",
       "    border: 1px solid black;\n",
       "    border-collapse: collapse;\n",
       "  }\n",
       "  th, td {\n",
       "    padding: 5px;\n",
       "  }\n",
       "  th {\n",
       "    text-align: left;\n",
       "  }\n",
       "</style><div class='table-result-container'><table class='table-result'><thead style='background-color: white'><tr><th>genre</th><th>game_per_genre</th></tr></thead><tbody><tr><td>Indie</td><td>39681</td></tr><tr><td>Action</td><td>23759</td></tr><tr><td>Casual</td><td>22086</td></tr><tr><td>Adventure</td><td>21431</td></tr><tr><td>Strategy</td><td>10895</td></tr><tr><td>Simulation</td><td>10836</td></tr><tr><td>RPG</td><td>9534</td></tr><tr><td>Early Access</td><td>6145</td></tr><tr><td>Free to Play</td><td>3393</td></tr><tr><td>Sports</td><td>2666</td></tr></tbody></table></div>"
      ]
     },
     "metadata": {
      "application/vnd.databricks.v1+output": {
       "addedWidgets": {},
       "aggData": [],
       "aggError": "",
       "aggOverflow": false,
       "aggSchema": [],
       "aggSeriesLimitReached": false,
       "aggType": "",
       "arguments": {},
       "columnCustomDisplayInfos": {},
       "data": [
        [
         "Indie",
         39681
        ],
        [
         "Action",
         23759
        ],
        [
         "Casual",
         22086
        ],
        [
         "Adventure",
         21431
        ],
        [
         "Strategy",
         10895
        ],
        [
         "Simulation",
         10836
        ],
        [
         "RPG",
         9534
        ],
        [
         "Early Access",
         6145
        ],
        [
         "Free to Play",
         3393
        ],
        [
         "Sports",
         2666
        ]
       ],
       "datasetInfos": [],
       "dbfsResultPath": null,
       "isJsonSchema": true,
       "metadata": {},
       "overflow": false,
       "plotOptions": {
        "customPlotOptions": {},
        "displayType": "table",
        "pivotAggregation": null,
        "pivotColumns": null,
        "xColumns": null,
        "yColumns": null
       },
       "removedWidgets": [],
       "schema": [
        {
         "metadata": "{}",
         "name": "genre",
         "type": "\"string\""
        },
        {
         "metadata": "{}",
         "name": "game_per_genre",
         "type": "\"long\""
        }
       ],
       "type": "table"
      }
     },
     "output_type": "display_data"
    },
    {
     "output_type": "display_data",
     "data": {
      "text/plain": [
       "Databricks visualization. Run in Databricks to view."
      ]
     },
     "metadata": {
      "application/vnd.databricks.v1.subcommand+json": {
       "baseErrorDetails": null,
       "bindings": {},
       "collapsed": false,
       "command": "%python\n__backend_agg_display_orig = display\n__backend_agg_dfs = []\ndef __backend_agg_display_new(df):\n    __backend_agg_df_modules = [\"pandas.core.frame\", \"databricks.koalas.frame\", \"pyspark.sql.dataframe\", \"pyspark.pandas.frame\", \"pyspark.sql.connect.dataframe\"]\n    if (type(df).__module__ in __backend_agg_df_modules and type(df).__name__ == 'DataFrame') or isinstance(df, list):\n        __backend_agg_dfs.append(df)\n\ndisplay = __backend_agg_display_new\n\ndef __backend_agg_user_code_fn():\n    import base64\n    exec(base64.standard_b64decode(\"ZGZfZ2VucmVzX2NvdW50XAogICAgLmdyb3VwQnkoImdlbnJlIilcCiAgICAuY291bnQoKS53aXRoQ29sdW1uUmVuYW1lZCgiY291bnQiLCAiZ2FtZV9wZXJfZ2VucmUiKVwKICAgIC5vcmRlckJ5KEYuZGVzYygiZ2FtZV9wZXJfZ2VucmUiKSlcCiAgICAubGltaXQoMTApLmRpc3BsYXkoKQ==\").decode())\n\ntry:\n    # run user code\n    __backend_agg_user_code_fn()\n\n    #reset display function\n    display = __backend_agg_display_orig\n\n    if len(__backend_agg_dfs) > 0:\n        # create a temp view\n        if type(__backend_agg_dfs[0]).__module__ == \"databricks.koalas.frame\":\n            # koalas dataframe\n            __backend_agg_dfs[0].to_spark().createOrReplaceTempView(\"DatabricksView6a7827a\")\n        elif type(__backend_agg_dfs[0]).__module__ == \"pandas.core.frame\" or isinstance(__backend_agg_dfs[0], list):\n            # pandas dataframe\n            spark.createDataFrame(__backend_agg_dfs[0]).createOrReplaceTempView(\"DatabricksView6a7827a\")\n        else:\n            __backend_agg_dfs[0].createOrReplaceTempView(\"DatabricksView6a7827a\")\n        #run backend agg\n        display(spark.sql(\"\"\"WITH q AS (select * from DatabricksView6a7827a) SELECT `genre`,SUM(`game_per_genre`) `column_31eb8573258` FROM q GROUP BY `genre`\"\"\"))\n    else:\n        displayHTML(\"dataframe no longer exists. If you're using dataframe.display(), use display(dataframe) instead.\")\n\n\nfinally:\n    spark.sql(\"drop view if exists DatabricksView6a7827a\")\n    display = __backend_agg_display_orig\n    del __backend_agg_display_new\n    del __backend_agg_display_orig\n    del __backend_agg_dfs\n    del __backend_agg_user_code_fn\n\n",
       "commandTitle": "Visualization 1",
       "commandType": "auto",
       "commandVersion": 0,
       "commentThread": [],
       "commentsVisible": false,
       "contentSha256Hex": null,
       "customPlotOptions": {
        "redashChart": [
         {
          "key": "type",
          "value": "CHART"
         },
         {
          "key": "options",
          "value": {
           "alignYAxesAtZero": true,
           "coefficient": 1,
           "columnConfigurationMap": {
            "x": {
             "column": "genre",
             "id": "column_31eb8573257"
            },
            "y": [
             {
              "column": "game_per_genre",
              "id": "column_31eb8573258",
              "transform": "SUM"
             }
            ]
           },
           "dateTimeFormat": "DD/MM/YYYY HH:mm",
           "direction": {
            "type": "counterclockwise"
           },
           "error_y": {
            "type": "data",
            "visible": true
           },
           "globalSeriesType": "column",
           "isAggregationOn": true,
           "legend": {
            "traceorder": "normal"
           },
           "missingValuesAsZero": true,
           "numberFormat": "0,0.[00000]",
           "percentFormat": "0[.]00%",
           "reverseX": false,
           "series": {
            "error_y": {
             "type": "data",
             "visible": true
            },
            "percentValues": false,
            "stacking": null
           },
           "seriesOptions": {
            "column_31eb8573258": {
             "color": null,
             "name": "game_per_genre",
             "type": "column",
             "yAxis": 0
            }
           },
           "showDataLabels": true,
           "sizemode": "diameter",
           "sortX": false,
           "sortY": true,
           "swappedAxes": false,
           "textFormat": "",
           "useAggregationsUi": true,
           "valuesOptions": {},
           "version": 2,
           "xAxis": {
            "labels": {
             "enabled": true
            },
            "type": "-"
           },
           "yAxis": [
            {
             "type": "-"
            },
            {
             "opposite": true,
             "type": "-"
            }
           ]
          }
         }
        ]
       },
       "datasetPreviewNameToCmdIdMap": {},
       "diffDeletes": [],
       "diffInserts": [],
       "displayType": "redashChart",
       "error": null,
       "errorDetails": null,
       "errorSummary": null,
       "errorTraceType": null,
       "finishTime": 0,
       "globalVars": {},
       "guid": "",
       "height": "auto",
       "hideCommandCode": false,
       "hideCommandResult": false,
       "iPythonMetadata": null,
       "inputWidgets": {},
       "isLockedInExamMode": false,
       "latestUser": "a user",
       "latestUserId": null,
       "listResultMetadata": null,
       "metadata": {},
       "nuid": "e6375bec-0acc-42ff-b030-5b281c83c1ef",
       "origId": 0,
       "parentHierarchy": [],
       "pivotAggregation": null,
       "pivotColumns": null,
       "position": 12.0,
       "resultDbfsErrorMessage": null,
       "resultDbfsStatus": "INLINED_IN_TREE",
       "results": null,
       "showCommandTitle": false,
       "startTime": 0,
       "state": "input",
       "streamStates": {},
       "subcommandOptions": {
        "queryPlan": {
         "groups": [
          {
           "column": "genre",
           "type": "column"
          }
         ],
         "selects": [
          {
           "column": "genre",
           "type": "column"
          },
          {
           "alias": "column_31eb8573258",
           "args": [
            {
             "column": "game_per_genre",
             "type": "column"
            }
           ],
           "function": "SUM",
           "type": "function"
          }
         ]
        }
       },
       "submitTime": 0,
       "subtype": "tableResultSubCmd.visualization",
       "tableResultIndex": 0,
       "tableResultSettingsMap": {},
       "useConsistentColors": false,
       "version": "CommandV1",
       "width": "auto",
       "workflows": [],
       "xColumns": null,
       "yColumns": null
      }
     },
     "output_type": "display_data"
    }
   ],
   "source": [
    "df_genres_count\\\n",
    "    .groupBy(\"genre\")\\\n",
    "    .count().withColumnRenamed(\"count\", \"game_per_genre\")\\\n",
    "    .orderBy(F.desc(\"game_per_genre\"))\\\n",
    "    .limit(10).display()"
   ]
  },
  {
   "cell_type": "markdown",
   "metadata": {
    "application/vnd.databricks.v1+cell": {
     "cellMetadata": {},
     "inputWidgets": {},
     "nuid": "fb0140e8-1c62-4d17-ac33-7ea958cc7393",
     "showTitle": false,
     "tableResultSettingsMap": {},
     "title": ""
    }
   },
   "source": [
    "Les jeux indépendants sont les plus représentés"
   ]
  },
  {
   "cell_type": "markdown",
   "metadata": {
    "application/vnd.databricks.v1+cell": {
     "cellMetadata": {},
     "inputWidgets": {},
     "nuid": "bb045882-a5a2-40f4-87aa-e2e3be4cfb7e",
     "showTitle": false,
     "tableResultSettingsMap": {},
     "title": ""
    }
   },
   "source": [
    "### Are there any genres that have a better positive/negative review ratio?"
   ]
  },
  {
   "cell_type": "code",
   "execution_count": 0,
   "metadata": {
    "application/vnd.databricks.v1+cell": {
     "cellMetadata": {
      "byteLimit": 2048000,
      "rowLimit": 10000
     },
     "inputWidgets": {},
     "nuid": "4811d96d-d704-48b9-8dae-5d74dfa514c1",
     "showTitle": false,
     "tableResultSettingsMap": {},
     "title": ""
    }
   },
   "outputs": [],
   "source": [
    "df_rated_genres = df_genres.select('name', 'positive', 'negative', F.explode('genre').alias('genre'))"
   ]
  },
  {
   "cell_type": "code",
   "execution_count": 0,
   "metadata": {
    "application/vnd.databricks.v1+cell": {
     "cellMetadata": {
      "byteLimit": 2048000,
      "rowLimit": 10000
     },
     "inputWidgets": {},
     "nuid": "b4091127-5b2c-4f40-beda-6ac2dc9ad31e",
     "showTitle": false,
     "tableResultSettingsMap": {},
     "title": ""
    }
   },
   "outputs": [
    {
     "output_type": "display_data",
     "data": {
      "text/html": [
       "<style scoped>\n",
       "  .table-result-container {\n",
       "    max-height: 300px;\n",
       "    overflow: auto;\n",
       "  }\n",
       "  table, th, td {\n",
       "    border: 1px solid black;\n",
       "    border-collapse: collapse;\n",
       "  }\n",
       "  th, td {\n",
       "    padding: 5px;\n",
       "  }\n",
       "  th {\n",
       "    text-align: left;\n",
       "  }\n",
       "</style><div class='table-result-container'><table class='table-result'><thead style='background-color: white'><tr><th>genre</th><th>rate_ratio_per_genre</th></tr></thead><tbody><tr><td>Indie</td><td>197628.52578864107</td></tr><tr><td>Adventure</td><td>115147.83941327479</td></tr><tr><td>Casual</td><td>107982.78879894866</td></tr><tr><td>Action</td><td>107068.0707142928</td></tr><tr><td>Simulation</td><td>47666.7064755077</td></tr><tr><td>RPG</td><td>47578.155694970534</td></tr><tr><td>Strategy</td><td>45011.068672994494</td></tr><tr><td>Early Access</td><td>23576.8836452649</td></tr><tr><td>Free to Play</td><td>17550.37769389576</td></tr><tr><td>Sports</td><td>10120.119311420696</td></tr></tbody></table></div>"
      ]
     },
     "metadata": {
      "application/vnd.databricks.v1+output": {
       "addedWidgets": {},
       "aggData": [],
       "aggError": "",
       "aggOverflow": false,
       "aggSchema": [],
       "aggSeriesLimitReached": false,
       "aggType": "",
       "arguments": {},
       "columnCustomDisplayInfos": {},
       "data": [
        [
         "Indie",
         197628.52578864107
        ],
        [
         "Adventure",
         115147.83941327479
        ],
        [
         "Casual",
         107982.78879894866
        ],
        [
         "Action",
         107068.0707142928
        ],
        [
         "Simulation",
         47666.7064755077
        ],
        [
         "RPG",
         47578.155694970534
        ],
        [
         "Strategy",
         45011.068672994494
        ],
        [
         "Early Access",
         23576.8836452649
        ],
        [
         "Free to Play",
         17550.37769389576
        ],
        [
         "Sports",
         10120.119311420696
        ]
       ],
       "datasetInfos": [],
       "dbfsResultPath": null,
       "isJsonSchema": true,
       "metadata": {},
       "overflow": false,
       "plotOptions": {
        "customPlotOptions": {},
        "displayType": "table",
        "pivotAggregation": null,
        "pivotColumns": null,
        "xColumns": null,
        "yColumns": null
       },
       "removedWidgets": [],
       "schema": [
        {
         "metadata": "{}",
         "name": "genre",
         "type": "\"string\""
        },
        {
         "metadata": "{}",
         "name": "rate_ratio_per_genre",
         "type": "\"double\""
        }
       ],
       "type": "table"
      }
     },
     "output_type": "display_data"
    },
    {
     "output_type": "display_data",
     "data": {
      "text/plain": [
       "Databricks visualization. Run in Databricks to view."
      ]
     },
     "metadata": {
      "application/vnd.databricks.v1.subcommand+json": {
       "baseErrorDetails": null,
       "bindings": {},
       "collapsed": false,
       "command": "%python\n__backend_agg_display_orig = display\n__backend_agg_dfs = []\ndef __backend_agg_display_new(df):\n    __backend_agg_df_modules = [\"pandas.core.frame\", \"databricks.koalas.frame\", \"pyspark.sql.dataframe\", \"pyspark.pandas.frame\", \"pyspark.sql.connect.dataframe\"]\n    if (type(df).__module__ in __backend_agg_df_modules and type(df).__name__ == 'DataFrame') or isinstance(df, list):\n        __backend_agg_dfs.append(df)\n\ndisplay = __backend_agg_display_new\n\ndef __backend_agg_user_code_fn():\n    import base64\n    exec(base64.standard_b64decode(\"cmF0ZWRfZ2VucmVzID0gZGZfcmF0ZWRfZ2VucmVzLndpdGhDb2x1bW4oJ3JhdGVfcmF0aW8nLCBGLmNvbCgncG9zaXRpdmUnKS9GLmNvbCgnbmVnYXRpdmUnKSkKcmF0ZWRfZ2VucmVzLmdyb3VwQnkoJ2dlbnJlJykuc3VtKCdyYXRlX3JhdGlvJylcCiAgICAud2l0aENvbHVtblJlbmFtZWQoInN1bShyYXRlX3JhdGlvKSIsICJyYXRlX3JhdGlvX3Blcl9nZW5yZSIpXAogICAgLm9yZGVyQnkoRi5kZXNjKCdyYXRlX3JhdGlvX3Blcl9nZW5yZScpKS5saW1pdCgxMCkuZGlzcGxheSgp\").decode())\n\ntry:\n    # run user code\n    __backend_agg_user_code_fn()\n\n    #reset display function\n    display = __backend_agg_display_orig\n\n    if len(__backend_agg_dfs) > 0:\n        # create a temp view\n        if type(__backend_agg_dfs[0]).__module__ == \"databricks.koalas.frame\":\n            # koalas dataframe\n            __backend_agg_dfs[0].to_spark().createOrReplaceTempView(\"DatabricksViewe66da68\")\n        elif type(__backend_agg_dfs[0]).__module__ == \"pandas.core.frame\" or isinstance(__backend_agg_dfs[0], list):\n            # pandas dataframe\n            spark.createDataFrame(__backend_agg_dfs[0]).createOrReplaceTempView(\"DatabricksViewe66da68\")\n        else:\n            __backend_agg_dfs[0].createOrReplaceTempView(\"DatabricksViewe66da68\")\n        #run backend agg\n        display(spark.sql(\"\"\"WITH q AS (select * from DatabricksViewe66da68) SELECT `genre`,SUM(`rate_ratio_per_genre`) `column_31eb8573277` FROM q GROUP BY `genre`\"\"\"))\n    else:\n        displayHTML(\"dataframe no longer exists. If you're using dataframe.display(), use display(dataframe) instead.\")\n\n\nfinally:\n    spark.sql(\"drop view if exists DatabricksViewe66da68\")\n    display = __backend_agg_display_orig\n    del __backend_agg_display_new\n    del __backend_agg_display_orig\n    del __backend_agg_dfs\n    del __backend_agg_user_code_fn\n\n",
       "commandTitle": "Visualization 1",
       "commandType": "auto",
       "commandVersion": 0,
       "commentThread": [],
       "commentsVisible": false,
       "contentSha256Hex": null,
       "customPlotOptions": {
        "redashChart": [
         {
          "key": "type",
          "value": "CHART"
         },
         {
          "key": "options",
          "value": {
           "alignYAxesAtZero": true,
           "coefficient": 1,
           "columnConfigurationMap": {
            "x": {
             "column": "genre",
             "id": "column_31eb8573276"
            },
            "y": [
             {
              "column": "rate_ratio_per_genre",
              "id": "column_31eb8573277",
              "transform": "SUM"
             }
            ]
           },
           "dateTimeFormat": "DD/MM/YYYY HH:mm",
           "direction": {
            "type": "counterclockwise"
           },
           "error_y": {
            "type": "data",
            "visible": true
           },
           "globalSeriesType": "column",
           "isAggregationOn": true,
           "legend": {
            "traceorder": "normal"
           },
           "missingValuesAsZero": true,
           "numberFormat": "0,0.[00000]",
           "percentFormat": "0[.]00%",
           "series": {
            "error_y": {
             "type": "data",
             "visible": true
            },
            "stacking": null
           },
           "seriesOptions": {
            "column_31eb8573277": {
             "color": "#B554FF",
             "name": "rate_ratio_per_genre",
             "type": "column",
             "yAxis": 0
            }
           },
           "showDataLabels": false,
           "sizemode": "diameter",
           "sortX": false,
           "sortY": true,
           "swappedAxes": false,
           "textFormat": "",
           "useAggregationsUi": true,
           "valuesOptions": {},
           "version": 2,
           "xAxis": {
            "labels": {
             "enabled": true
            },
            "type": "-"
           },
           "yAxis": [
            {
             "type": "-"
            },
            {
             "opposite": true,
             "type": "-"
            }
           ]
          }
         }
        ]
       },
       "datasetPreviewNameToCmdIdMap": {},
       "diffDeletes": [],
       "diffInserts": [],
       "displayType": "redashChart",
       "error": null,
       "errorDetails": null,
       "errorSummary": null,
       "errorTraceType": null,
       "finishTime": 0,
       "globalVars": {},
       "guid": "",
       "height": "auto",
       "hideCommandCode": false,
       "hideCommandResult": false,
       "iPythonMetadata": null,
       "inputWidgets": {},
       "isLockedInExamMode": false,
       "latestUser": "a user",
       "latestUserId": null,
       "listResultMetadata": null,
       "metadata": {},
       "nuid": "e7518c04-ed48-4271-8690-f6c643027c69",
       "origId": 0,
       "parentHierarchy": [],
       "pivotAggregation": null,
       "pivotColumns": null,
       "position": 15.0,
       "resultDbfsErrorMessage": null,
       "resultDbfsStatus": "INLINED_IN_TREE",
       "results": null,
       "showCommandTitle": false,
       "startTime": 0,
       "state": "input",
       "streamStates": {},
       "subcommandOptions": {
        "queryPlan": {
         "groups": [
          {
           "column": "genre",
           "type": "column"
          }
         ],
         "selects": [
          {
           "column": "genre",
           "type": "column"
          },
          {
           "alias": "column_31eb8573277",
           "args": [
            {
             "column": "rate_ratio_per_genre",
             "type": "column"
            }
           ],
           "function": "SUM",
           "type": "function"
          }
         ]
        }
       },
       "submitTime": 0,
       "subtype": "tableResultSubCmd.visualization",
       "tableResultIndex": 0,
       "tableResultSettingsMap": {},
       "useConsistentColors": false,
       "version": "CommandV1",
       "width": "auto",
       "workflows": [],
       "xColumns": null,
       "yColumns": null
      }
     },
     "output_type": "display_data"
    }
   ],
   "source": [
    "rated_genres = df_rated_genres.withColumn('rate_ratio', F.col('positive')/F.col('negative'))\n",
    "rated_genres.groupBy('genre').sum('rate_ratio')\\\n",
    "    .withColumnRenamed(\"sum(rate_ratio)\", \"rate_ratio_per_genre\")\\\n",
    "    .orderBy(F.desc('rate_ratio_per_genre')).limit(10).display()"
   ]
  },
  {
   "cell_type": "markdown",
   "metadata": {
    "application/vnd.databricks.v1+cell": {
     "cellMetadata": {},
     "inputWidgets": {},
     "nuid": "190a76a7-15cc-4f89-ad58-bb9cccb81afa",
     "showTitle": false,
     "tableResultSettingsMap": {},
     "title": ""
    }
   },
   "source": [
    "Les jeux indépendants ont le meilleur ratio notes +/ notes - "
   ]
  },
  {
   "cell_type": "markdown",
   "metadata": {
    "application/vnd.databricks.v1+cell": {
     "cellMetadata": {},
     "inputWidgets": {},
     "nuid": "a2717b1f-e8eb-4154-8539-9f0f36ea5484",
     "showTitle": false,
     "tableResultSettingsMap": {},
     "title": ""
    }
   },
   "source": [
    "### Do some publishers have favorite genres?\n",
    "### \n"
   ]
  },
  {
   "cell_type": "code",
   "execution_count": 0,
   "metadata": {
    "application/vnd.databricks.v1+cell": {
     "cellMetadata": {
      "byteLimit": 2048000,
      "rowLimit": 10000
     },
     "inputWidgets": {},
     "nuid": "281d72d8-50f9-4c4e-ad3c-8d851bd25312",
     "showTitle": false,
     "tableResultSettingsMap": {},
     "title": ""
    }
   },
   "outputs": [],
   "source": [
    "df_publisher_genres = df_genres.select('publisher', F.explode('genre').alias('genre'))"
   ]
  },
  {
   "cell_type": "code",
   "execution_count": 0,
   "metadata": {
    "application/vnd.databricks.v1+cell": {
     "cellMetadata": {
      "byteLimit": 2048000,
      "rowLimit": 10000
     },
     "inputWidgets": {},
     "nuid": "714d8e07-b60e-4672-8218-5cd72af8ed90",
     "showTitle": false,
     "tableResultSettingsMap": {},
     "title": ""
    }
   },
   "outputs": [
    {
     "output_type": "display_data",
     "data": {
      "text/html": [
       "<style scoped>\n",
       "  .table-result-container {\n",
       "    max-height: 300px;\n",
       "    overflow: auto;\n",
       "  }\n",
       "  table, th, td {\n",
       "    border: 1px solid black;\n",
       "    border-collapse: collapse;\n",
       "  }\n",
       "  th, td {\n",
       "    padding: 5px;\n",
       "  }\n",
       "  th {\n",
       "    text-align: left;\n",
       "  }\n",
       "</style><div class='table-result-container'><table class='table-result'><thead style='background-color: white'><tr><th>publisher</th><th>genre</th><th>count</th></tr></thead><tbody><tr><td>Emilios Manolidis</td><td>Indie</td><td>3</td></tr><tr><td>Polygone Games</td><td>Adventure</td><td>1</td></tr><tr><td>Rollman team</td><td>Indie</td><td>1</td></tr><tr><td>EyeContact Games</td><td>Adventure</td><td>1</td></tr><tr><td>Fair Games Studio, Pleasant Rain Ltd</td><td>Adventure</td><td>2</td></tr><tr><td>Rising Sun Interactive</td><td>Indie</td><td>3</td></tr><tr><td>FG</td><td>Indie</td><td>2</td></tr><tr><td>Secret Forest Games</td><td>Adventure</td><td>1</td></tr><tr><td>Innovative Underdogs</td><td>Adventure</td><td>1</td></tr><tr><td>Glass Bubble Software</td><td>Indie</td><td>1</td></tr></tbody></table></div>"
      ]
     },
     "metadata": {
      "application/vnd.databricks.v1+output": {
       "addedWidgets": {},
       "aggData": [],
       "aggError": "",
       "aggOverflow": false,
       "aggSchema": [],
       "aggSeriesLimitReached": false,
       "aggType": "",
       "arguments": {},
       "columnCustomDisplayInfos": {},
       "data": [
        [
         "Emilios Manolidis",
         "Indie",
         3
        ],
        [
         "Polygone Games",
         "Adventure",
         1
        ],
        [
         "Rollman team",
         "Indie",
         1
        ],
        [
         "EyeContact Games",
         "Adventure",
         1
        ],
        [
         "Fair Games Studio, Pleasant Rain Ltd",
         "Adventure",
         2
        ],
        [
         "Rising Sun Interactive",
         "Indie",
         3
        ],
        [
         "FG",
         "Indie",
         2
        ],
        [
         "Secret Forest Games",
         "Adventure",
         1
        ],
        [
         "Innovative Underdogs",
         "Adventure",
         1
        ],
        [
         "Glass Bubble Software",
         "Indie",
         1
        ]
       ],
       "datasetInfos": [],
       "dbfsResultPath": null,
       "isJsonSchema": true,
       "metadata": {},
       "overflow": false,
       "plotOptions": {
        "customPlotOptions": {},
        "displayType": "table",
        "pivotAggregation": null,
        "pivotColumns": null,
        "xColumns": null,
        "yColumns": null
       },
       "removedWidgets": [],
       "schema": [
        {
         "metadata": "{}",
         "name": "publisher",
         "type": "\"string\""
        },
        {
         "metadata": "{}",
         "name": "genre",
         "type": "\"string\""
        },
        {
         "metadata": "{}",
         "name": "count",
         "type": "\"long\""
        }
       ],
       "type": "table"
      }
     },
     "output_type": "display_data"
    }
   ],
   "source": [
    "df_genre_publisher_count = df_publisher_genres.groupBy(\"publisher\", \"genre\").count()\n",
    "\n",
    "df_genre_publisher_count.limit(10).display()"
   ]
  },
  {
   "cell_type": "code",
   "execution_count": 0,
   "metadata": {
    "application/vnd.databricks.v1+cell": {
     "cellMetadata": {
      "byteLimit": 2048000,
      "rowLimit": 10000
     },
     "inputWidgets": {},
     "nuid": "8e8c89cd-9dc6-49ff-b0c9-0f456009b7fe",
     "showTitle": false,
     "tableResultSettingsMap": {},
     "title": ""
    }
   },
   "outputs": [
    {
     "output_type": "display_data",
     "data": {
      "text/html": [
       "<style scoped>\n",
       "  .table-result-container {\n",
       "    max-height: 300px;\n",
       "    overflow: auto;\n",
       "  }\n",
       "  table, th, td {\n",
       "    border: 1px solid black;\n",
       "    border-collapse: collapse;\n",
       "  }\n",
       "  th, td {\n",
       "    padding: 5px;\n",
       "  }\n",
       "  th {\n",
       "    text-align: left;\n",
       "  }\n",
       "</style><div class='table-result-container'><table class='table-result'><thead style='background-color: white'><tr><th>publisher</th><th>genre</th><th>count</th></tr></thead><tbody><tr><td>505 Games</td><td>Action</td><td>28</td></tr><tr><td>8Floor</td><td>Casual</td><td>41</td></tr><tr><td>8floor</td><td>Casual</td><td>202</td></tr><tr><td>Activision</td><td>Action</td><td>28</td></tr><tr><td>Aerosoft GmbH</td><td>Simulation</td><td>33</td></tr><tr><td>Akupara Games</td><td>Indie</td><td>15</td></tr><tr><td>Amaterasu Software</td><td>Indie</td><td>10</td></tr><tr><td>Annapurna Interactive</td><td>Adventure</td><td>21</td></tr><tr><td>Application Systems Heidelberg</td><td>Indie</td><td>11</td></tr><tr><td>Arcen Games, LLC</td><td>Indie</td><td>11</td></tr><tr><td>Artifex Mundi</td><td>Casual</td><td>73</td></tr><tr><td>Assemble Entertainment</td><td>Adventure</td><td>22</td></tr><tr><td>Atari</td><td>Action</td><td>22</td></tr><tr><td>BANDAI NAMCO Entertainment</td><td>Action</td><td>52</td></tr><tr><td>Big Black Bear</td><td>Indie</td><td>33</td></tr><tr><td>Big Fish Games</td><td>Casual</td><td>418</td></tr><tr><td>Black Phoenix Studio</td><td>Indie</td><td>10</td></tr><tr><td>Bohemia Interactive</td><td>Action</td><td>13</td></tr><tr><td>Boomzap Inc</td><td>Casual</td><td>13</td></tr><tr><td>Brewsterland Studios</td><td>RPG</td><td>15</td></tr><tr><td>CAPCOM Co., Ltd.</td><td>Action</td><td>20</td></tr><tr><td>CFK Co., Ltd.</td><td>Indie</td><td>20</td></tr><tr><td>Cateia Games</td><td>Indie</td><td>14</td></tr><tr><td>Chucklefish</td><td>Indie</td><td>11</td></tr><tr><td>Codemasters, Electronic Arts</td><td>Racing</td><td>10</td></tr><tr><td>Cosmi Valusoft</td><td>Simulation</td><td>13</td></tr><tr><td>Crescent Moon Games</td><td>Indie</td><td>14</td></tr><tr><td>Crew Lab</td><td>Casual</td><td>13</td></tr><tr><td>Crew Lab</td><td>Indie</td><td>13</td></tr><tr><td>Crisp App Studio</td><td>Casual</td><td>17</td></tr><tr><td>Crisp App Studio</td><td>Indie</td><td>17</td></tr><tr><td>Crisp App Studio</td><td>Adventure</td><td>17</td></tr><tr><td>Cute Hannah's Games</td><td>Casual</td><td>24</td></tr><tr><td>D3PUBLISHER</td><td>Action</td><td>11</td></tr><tr><td>DANGEN Entertainment</td><td>Indie</td><td>11</td></tr><tr><td>DNA ARMY GAMING</td><td>Indie</td><td>10</td></tr><tr><td>DSGame</td><td>Casual</td><td>17</td></tr><tr><td>Dear Villagers</td><td>Indie</td><td>16</td></tr><tr><td>Dharker Studios Ltd</td><td>Indie</td><td>18</td></tr><tr><td>Dikobraz Games</td><td>Indie</td><td>11</td></tr><tr><td>Displacement Studios</td><td>Indie</td><td>16</td></tr><tr><td>Droid Riot</td><td>Indie</td><td>42</td></tr><tr><td>Educational Games</td><td>Casual</td><td>14</td></tr><tr><td>Educational Games</td><td>Indie</td><td>14</td></tr><tr><td>Electronic Arts</td><td>Action</td><td>57</td></tr><tr><td>Enaayah Software Development and Services Private Limited</td><td>Action</td><td>16</td></tr><tr><td>EpiXR Games UG</td><td>Indie</td><td>27</td></tr><tr><td>Fury Games Production</td><td>Indie</td><td>12</td></tr><tr><td>Gamenesis</td><td>Indie</td><td>18</td></tr><tr><td>Gamera Interactive</td><td>Indie</td><td>13</td></tr><tr><td>Garage Games</td><td>Indie</td><td>56</td></tr><tr><td>Gigantum Games</td><td>Indie</td><td>18</td></tr><tr><td>Gotcha Gotcha Games</td><td>Action</td><td>12</td></tr><tr><td>Gotcha Gotcha Games</td><td>RPG</td><td>12</td></tr><tr><td>GrabTheGames</td><td>Indie</td><td>49</td></tr><tr><td>Graffiti Games</td><td>Indie</td><td>14</td></tr><tr><td>Green Man Gaming Publishing</td><td>Indie</td><td>12</td></tr><tr><td>Grey Alien Games</td><td>Casual</td><td>24</td></tr><tr><td>HandMade Games</td><td>Indie</td><td>34</td></tr><tr><td>Headup Games</td><td>Indie</td><td>14</td></tr><tr><td>Hede Games, Hede</td><td>Casual</td><td>10</td></tr><tr><td>Hede Games, Hede</td><td>Indie</td><td>10</td></tr><tr><td>Hede Games, Hede</td><td>Action</td><td>10</td></tr><tr><td>HexWar Games</td><td>Strategy</td><td>42</td></tr><tr><td>Hosted Games</td><td>RPG</td><td>79</td></tr><tr><td>Hosted Games</td><td>Indie</td><td>79</td></tr><tr><td>HugePixel</td><td>Indie</td><td>15</td></tr><tr><td>Hunny Bunny Studio</td><td>Indie</td><td>14</td></tr><tr><td>Hunny Bunny Studio</td><td>Casual</td><td>14</td></tr><tr><td>INDIECN</td><td>Indie</td><td>15</td></tr><tr><td>Iceberg Interactive</td><td>Indie</td><td>39</td></tr><tr><td>Idea Factory International</td><td>RPG</td><td>16</td></tr><tr><td>ImperiumGame</td><td>Indie</td><td>40</td></tr><tr><td>IndieGala</td><td>Action</td><td>10</td></tr><tr><td>IndieGala</td><td>Indie</td><td>10</td></tr><tr><td>Individual Software</td><td>Software Training</td><td>22</td></tr><tr><td>Interactive Pixel Entmt.</td><td>Indie</td><td>17</td></tr><tr><td>Interactive Pixel Entmt.</td><td>Casual</td><td>17</td></tr><tr><td>Jackbox Games, Inc.</td><td>Indie</td><td>23</td></tr><tr><td>KISS ltd</td><td>Indie</td><td>22</td></tr><tr><td>KPL</td><td>Indie</td><td>16</td></tr><tr><td>Kalypso Media</td><td>Strategy</td><td>11</td></tr><tr><td>Kavkaz Sila Games</td><td>Simulation</td><td>14</td></tr><tr><td>KazakovStudios</td><td>Indie</td><td>12</td></tr><tr><td>Kedexa</td><td>Casual</td><td>22</td></tr><tr><td>Klabater</td><td>Adventure</td><td>10</td></tr><tr><td>Klabater</td><td>Indie</td><td>10</td></tr><tr><td>Komodo</td><td>Action</td><td>31</td></tr><tr><td>Konnichiwa Games</td><td>Action</td><td>10</td></tr><tr><td>LGT SIA</td><td>Casual</td><td>10</td></tr><tr><td>LGT SIA</td><td>Indie</td><td>10</td></tr><tr><td>LoadUpGames.com</td><td>Casual</td><td>10</td></tr><tr><td>LucasArts, Lucasfilm, Disney</td><td>Action</td><td>18</td></tr><tr><td>MIRROR Soft</td><td>Action</td><td>10</td></tr><tr><td>MIRROR Soft</td><td>Strategy</td><td>10</td></tr><tr><td>MangaGamer</td><td>Adventure</td><td>45</td></tr><tr><td>Mediascape Co., Ltd.</td><td>Action</td><td>17</td></tr><tr><td>Merge Games</td><td>Indie</td><td>13</td></tr><tr><td>Microids Indie</td><td>Adventure</td><td>10</td></tr><tr><td>Microïds Indie</td><td>Adventure</td><td>11</td></tr><tr><td>Minimol Games</td><td>Casual</td><td>26</td></tr><tr><td>Modus Games</td><td>Indie</td><td>11</td></tr><tr><td>MoonlightGames</td><td>Indie</td><td>10</td></tr><tr><td>MoonlightGames</td><td>Action</td><td>10</td></tr><tr><td>Movavi Software</td><td>Video Production</td><td>17</td></tr><tr><td>NS</td><td>Indie</td><td>17</td></tr><tr><td>NVLMaker</td><td>Indie</td><td>13</td></tr><tr><td>Nacks Soft</td><td>Indie</td><td>11</td></tr><tr><td>Nacks Soft</td><td>Action</td><td>11</td></tr><tr><td>Nacks Soft</td><td>Adventure</td><td>11</td></tr><tr><td>Nacon</td><td>Sports</td><td>33</td></tr><tr><td>Naoka Games</td><td>Casual</td><td>10</td></tr><tr><td>New Reality Games</td><td>Indie</td><td>32</td></tr><tr><td>Nicalis, Inc.</td><td>Action</td><td>16</td></tr><tr><td>None</td><td>Indie</td><td>19</td></tr><tr><td>Notus Games Ltd</td><td>Casual</td><td>11</td></tr><tr><td>Oh, a Rock! Studios</td><td>Indie</td><td>10</td></tr><tr><td>Paradise Project</td><td>Indie</td><td>22</td></tr><tr><td>Peaksel</td><td>Casual</td><td>11</td></tr><tr><td>Phat Phrog Studios</td><td>Indie</td><td>10</td></tr><tr><td>Piko Interactive LLC, Bleem!</td><td>Action</td><td>32</td></tr><tr><td>Pixel Games UK</td><td>Action</td><td>29</td></tr><tr><td>PlayWay S.A.</td><td>Simulation</td><td>13</td></tr><tr><td>Plug In Digital</td><td>Indie</td><td>79</td></tr><tr><td>PopCap Games, Inc.</td><td>Casual</td><td>19</td></tr><tr><td>Positech Games</td><td>Strategy</td><td>11</td></tr><tr><td>Positech Games</td><td>Indie</td><td>11</td></tr><tr><td>Prime Matter</td><td>Action</td><td>11</td></tr><tr><td>Quarlellle</td><td>Indie</td><td>25</td></tr><tr><td>QuickBobber</td><td>Indie</td><td>12</td></tr><tr><td>Rainbow Games</td><td>Casual</td><td>10</td></tr><tr><td>Rebellion</td><td>Action</td><td>25</td></tr><tr><td>Reforged Group</td><td>Indie</td><td>88</td></tr><tr><td>Renegade Sector Games</td><td>Action</td><td>12</td></tr><tr><td>Reverb Triple XP</td><td>Indie</td><td>10</td></tr><tr><td>Revmatek</td><td>Indie</td><td>12</td></tr><tr><td>Revmatek</td><td>Casual</td><td>12</td></tr><tr><td>Ripknot Systems</td><td>Casual</td><td>55</td></tr><tr><td>SC Jogos</td><td>Indie</td><td>14</td></tr><tr><td>SEGA</td><td>Action</td><td>80</td></tr><tr><td>SEGA, Feral Interactive (Mac), Feral Interactive (Linux)</td><td>Strategy</td><td>13</td></tr><tr><td>SOFTSTAR ENTERTAINMENT</td><td>RPG</td><td>13</td></tr><tr><td>SakuraGame</td><td>Adventure</td><td>26</td></tr><tr><td>SakuraGame</td><td>Indie</td><td>26</td></tr><tr><td>Sapphire Dragon Productions</td><td>Casual</td><td>12</td></tr><tr><td>Screen 7</td><td>Adventure</td><td>10</td></tr><tr><td>Screen 7</td><td>Indie</td><td>10</td></tr><tr><td>SeedWall</td><td>Indie</td><td>14</td></tr><tr><td>Serenity Forge</td><td>Indie</td><td>10</td></tr><tr><td>Shaman Games Studio</td><td>Casual</td><td>14</td></tr><tr><td>Shiravune</td><td>Adventure</td><td>16</td></tr><tr><td>Sigma Team Inc.</td><td>Indie</td><td>13</td></tr><tr><td>Simulators Live</td><td>Simulation</td><td>11</td></tr><tr><td>Slitherine Ltd.</td><td>Strategy</td><td>96</td></tr><tr><td>Spiderweb Software</td><td>RPG</td><td>18</td></tr><tr><td>Spiderweb Software</td><td>Indie</td><td>18</td></tr><tr><td>Stardock Entertainment</td><td>Strategy</td><td>18</td></tr><tr><td>Starship Studio</td><td>Indie</td><td>15</td></tr><tr><td>Studio Inward</td><td>Indie</td><td>11</td></tr><tr><td>Studio2760</td><td>Adventure</td><td>12</td></tr><tr><td>Tap by Tap</td><td>Indie</td><td>10</td></tr><tr><td>Team Syukino</td><td>RPG</td><td>10</td></tr><tr><td>Team17</td><td>Indie</td><td>21</td></tr><tr><td>Team17 Digital Ltd</td><td>Indie</td><td>25</td></tr><tr><td>Tero Lunkka</td><td>Indie</td><td>68</td></tr><tr><td>TigerQiuQiu</td><td>Action</td><td>18</td></tr><tr><td>TigerQiuQiu</td><td>Indie</td><td>18</td></tr><tr><td>Tin Man Games</td><td>Adventure</td><td>12</td></tr><tr><td>Tin Man Games</td><td>Indie</td><td>12</td></tr><tr><td>Toplitz Productions</td><td>Simulation</td><td>13</td></tr><tr><td>Tranquility games</td><td>Casual</td><td>13</td></tr><tr><td>Tranquility games</td><td>Indie</td><td>13</td></tr><tr><td>Trinity Project</td><td>Indie</td><td>39</td></tr><tr><td>USERJOY Technology Co.,Ltd.</td><td>RPG</td><td>16</td></tr><tr><td>Ubisoft</td><td>Action</td><td>70</td></tr><tr><td>Ultimate Games S.A.</td><td>Indie</td><td>14</td></tr><tr><td>Versus Evil</td><td>Indie</td><td>23</td></tr><tr><td>Vitok</td><td>Casual</td><td>10</td></tr><tr><td>Viva Media</td><td>Casual</td><td>13</td></tr><tr><td>Volens Nolens Games</td><td>Indie</td><td>44</td></tr><tr><td>WayForward</td><td>Action</td><td>10</td></tr><tr><td>Whale Rock Games</td><td>Indie</td><td>13</td></tr><tr><td>William at Oxford</td><td>Casual</td><td>51</td></tr><tr><td>Wired Productions</td><td>Indie</td><td>13</td></tr><tr><td>Wolverine Studios</td><td>Indie</td><td>24</td></tr><tr><td>Wolverine Studios</td><td>Simulation</td><td>24</td></tr><tr><td>Wolverine Studios</td><td>Sports</td><td>24</td></tr><tr><td>Ziggurat</td><td>Action</td><td>58</td></tr><tr><td>Zoo Corporation</td><td>Casual</td><td>30</td></tr><tr><td>azimuth team</td><td>Indie</td><td>16</td></tr><tr><td>beans rolls</td><td>Casual</td><td>13</td></tr><tr><td>eSolutions Nordic AB</td><td>Indie</td><td>12</td></tr><tr><td>eSolutions Nordic AB</td><td>Casual</td><td>12</td></tr><tr><td>id Software</td><td>Action</td><td>16</td></tr><tr><td>inXile Entertainment</td><td>RPG</td><td>10</td></tr><tr><td>indie_games_studio</td><td>Indie</td><td>23</td></tr><tr><td>КиКо</td><td>Indie</td><td>13</td></tr><tr><td>凝冰剑斩</td><td>Indie</td><td>10</td></tr><tr><td>凝冰剑斩</td><td>RPG</td><td>10</td></tr><tr><td></td><td>Indie</td><td>106</td></tr><tr><td>0Cube</td><td>Adventure</td><td>19</td></tr><tr><td>0Cube</td><td>Indie</td><td>19</td></tr><tr><td>0Cube</td><td>RPG</td><td>19</td></tr><tr><td>10tons Ltd</td><td>Indie</td><td>16</td></tr><tr><td>2K</td><td>Action</td><td>25</td></tr><tr><td>3D Realms (Apogee Software)</td><td>Action</td><td>16</td></tr><tr><td>AFBIK Studio</td><td>Casual</td><td>20</td></tr><tr><td>AFBIK Studio</td><td>Indie</td><td>20</td></tr><tr><td>ANPA.US</td><td>Indie</td><td>32</td></tr><tr><td>Absolutist Ltd.</td><td>Adventure</td><td>10</td></tr><tr><td>Adult Swim Games</td><td>Action</td><td>15</td></tr><tr><td>Adult Swim Games</td><td>Indie</td><td>15</td></tr><tr><td>Ahlman Game Studio</td><td>Free to Play</td><td>11</td></tr><tr><td>Alawar Entertainment</td><td>Casual</td><td>105</td></tr><tr><td>Aldorlea Games</td><td>RPG</td><td>49</td></tr><tr><td>Alternative Software Ltd</td><td>Sports</td><td>11</td></tr><tr><td>Alternative Software Ltd</td><td>Simulation</td><td>11</td></tr><tr><td>Ammonite Design Studios Ltd</td><td>Indie</td><td>14</td></tr><tr><td>Anamik Majumdar</td><td>Indie</td><td>40</td></tr><tr><td>Anarchy Enterprises</td><td>Indie</td><td>10</td></tr><tr><td>Anatoliy Loginovskikh</td><td>Indie</td><td>26</td></tr><tr><td>Andy Jurko</td><td>Indie</td><td>17</td></tr><tr><td>Andy Jurko</td><td>Casual</td><td>17</td></tr><tr><td>Apogee Entertainment</td><td>Action</td><td>14</td></tr><tr><td>Arc System Works</td><td>Action</td><td>27</td></tr><tr><td>Armor Games Studios</td><td>Indie</td><td>22</td></tr><tr><td>Astero</td><td>Action</td><td>12</td></tr><tr><td>Astero</td><td>Indie</td><td>12</td></tr><tr><td>Atomic Fabrik, Cristian Manolachi</td><td>Simulation</td><td>44</td></tr><tr><td>Atomic Fabrik, Cristian Manolachi</td><td>Indie</td><td>44</td></tr><tr><td>Avalon Digital</td><td>Strategy</td><td>15</td></tr><tr><td>Back To Basics Gaming</td><td>Indie</td><td>53</td></tr><tr><td>BadLand Publishing</td><td>Indie</td><td>11</td></tr><tr><td>Bandai Namco Entertainment</td><td>Action</td><td>10</td></tr><tr><td>BekkerDev Studio</td><td>Indie</td><td>11</td></tr><tr><td>BekkerDev Studio</td><td>Adventure</td><td>11</td></tr><tr><td>Bethesda Softworks</td><td>Action</td><td>37</td></tr><tr><td>Bitlock Studio</td><td>Indie</td><td>33</td></tr><tr><td>Blaze Epic</td><td>Action</td><td>10</td></tr><tr><td>Blaze Epic</td><td>Indie</td><td>10</td></tr><tr><td>Blender Games</td><td>Indie</td><td>70</td></tr><tr><td>Blender Games</td><td>Casual</td><td>70</td></tr><tr><td>Blowfish Studios</td><td>Indie</td><td>10</td></tr><tr><td>Blowfish Studios</td><td>Action</td><td>10</td></tr><tr><td>Boogygames Studios</td><td>Indie</td><td>78</td></tr><tr><td>Boom Games</td><td>Adventure</td><td>14</td></tr><tr><td>Boom Games</td><td>Indie</td><td>14</td></tr><tr><td>Boom Games</td><td>Action</td><td>14</td></tr><tr><td>Boom Games</td><td>Simulation</td><td>14</td></tr><tr><td>Bullid Games</td><td>Indie</td><td>18</td></tr><tr><td>Bullid Games</td><td>Casual</td><td>18</td></tr><tr><td>CI Games</td><td>Action</td><td>10</td></tr><tr><td>CITY CONNECTION</td><td>Action</td><td>18</td></tr><tr><td>Capcom</td><td>Action</td><td>32</td></tr><tr><td>Casual Arts</td><td>Casual</td><td>20</td></tr><tr><td>Chilla's Art</td><td>Adventure</td><td>17</td></tr><tr><td>Chilla's Art</td><td>Indie</td><td>17</td></tr><tr><td>Choice of Games</td><td>RPG</td><td>139</td></tr><tr><td>Clouded Leopard Entertainment</td><td>RPG</td><td>11</td></tr><tr><td>Cristian Manolachi, Atomic Fabrik</td><td>Indie</td><td>21</td></tr><tr><td>Crytivo</td><td>Indie</td><td>10</td></tr><tr><td>Curve Games</td><td>Indie</td><td>28</td></tr><tr><td>Cyan Worlds Inc</td><td>Adventure</td><td>10</td></tr><tr><td>DIG Publishing</td><td>Casual</td><td>10</td></tr><tr><td>DIG Publishing</td><td>Indie</td><td>10</td></tr><tr><td>DLsite</td><td>Indie</td><td>19</td></tr><tr><td>Daedalic Entertainment</td><td>Indie</td><td>66</td></tr><tr><td>Deep Silver</td><td>Action</td><td>24</td></tr><tr><td>Denda Games</td><td>Casual</td><td>11</td></tr><tr><td>Devolver Digital</td><td>Indie</td><td>87</td></tr><tr><td>Digerati</td><td>Indie</td><td>18</td></tr><tr><td>DigiMight</td><td>Casual</td><td>16</td></tr><tr><td>DigiPen Institute of Technology</td><td>Action</td><td>25</td></tr><tr><td>Digital Tribe</td><td>Indie</td><td>24</td></tr><tr><td>DillyFrame</td><td>Indie</td><td>14</td></tr><tr><td>Disney</td><td>Adventure</td><td>26</td></tr><tr><td>Disney</td><td>Action</td><td>26</td></tr><tr><td>Dnovel</td><td>Adventure</td><td>41</td></tr><tr><td>Dogenzaka Lab</td><td>Adventure</td><td>15</td></tr><tr><td>DominiGames</td><td>Adventure</td><td>13</td></tr><tr><td>DominiGames</td><td>Casual</td><td>13</td></tr><tr><td>Double Fine Productions</td><td>Adventure</td><td>10</td></tr><tr><td>EGAMER</td><td>Indie</td><td>19</td></tr><tr><td>EGAMER</td><td>Casual</td><td>19</td></tr><tr><td>ESDigital Games</td><td>Casual</td><td>37</td></tr><tr><td>Enoops</td><td>Indie</td><td>41</td></tr><tr><td>EnsenaSoft</td><td>Casual</td><td>32</td></tr><tr><td>Eversim</td><td>Simulation</td><td>10</td></tr><tr><td>Excalibur Publishing</td><td>Simulation</td><td>13</td></tr><tr><td>FIVE-BN GAMES</td><td>Adventure</td><td>24</td></tr><tr><td>Fellow Traveller</td><td>Indie</td><td>18</td></tr><tr><td>FireFly Studios</td><td>Strategy</td><td>10</td></tr><tr><td>Flying Interactive</td><td>Indie</td><td>14</td></tr><tr><td>FobTi interactive</td><td>Indie</td><td>10</td></tr><tr><td>Focus Entertainment</td><td>Action</td><td>23</td></tr><tr><td>Follow The Fun</td><td>Casual</td><td>11</td></tr><tr><td>Follow The Fun</td><td>Indie</td><td>11</td></tr><tr><td>For Kids</td><td>Casual</td><td>32</td></tr><tr><td>For Kids</td><td>Indie</td><td>32</td></tr><tr><td>Forever Entertainment S. A.</td><td>Indie</td><td>54</td></tr><tr><td>Freedom Games</td><td>Indie</td><td>20</td></tr><tr><td>FreezeNova.Games</td><td>Indie</td><td>18</td></tr><tr><td>Frogwares</td><td>Adventure</td><td>14</td></tr><tr><td>Frontwing USA</td><td>Casual</td><td>23</td></tr><tr><td>Fruitbat Factory</td><td>Indie</td><td>23</td></tr><tr><td>Fulqrum Publishing</td><td>Strategy</td><td>56</td></tr><tr><td>Funbox Media Ltd</td><td>Action</td><td>19</td></tr><tr><td>Funcom</td><td>Adventure</td><td>10</td></tr><tr><td>Game for people</td><td>Indie</td><td>13</td></tr><tr><td>GameHouse</td><td>Casual</td><td>35</td></tr><tr><td>Gamera Games</td><td>Indie</td><td>26</td></tr><tr><td>Gearbox Publishing</td><td>Action</td><td>11</td></tr><tr><td>Ghost_RUS Games</td><td>Indie</td><td>50</td></tr><tr><td>Ghostlight LTD</td><td>Strategy</td><td>11</td></tr><tr><td>Good Shepherd Entertainment</td><td>Indie</td><td>20</td></tr><tr><td>Green Sauce Games</td><td>Casual</td><td>12</td></tr><tr><td>Green Sauce Games</td><td>Indie</td><td>12</td></tr><tr><td>H2 Interactive Co., Ltd.</td><td>Action</td><td>10</td></tr><tr><td>HH-Games</td><td>Casual</td><td>132</td></tr><tr><td>HIKARI FIELD</td><td>Adventure</td><td>19</td></tr><tr><td>HaDe Games</td><td>Indie</td><td>11</td></tr><tr><td>Half-Face Games</td><td>Indie</td><td>11</td></tr><tr><td>Hanako Games</td><td>Indie</td><td>11</td></tr><tr><td>HandyGames</td><td>Indie</td><td>20</td></tr><tr><td>HeR Interactive</td><td>Adventure</td><td>29</td></tr><tr><td>Headup</td><td>Indie</td><td>34</td></tr><tr><td>Hede</td><td>Action</td><td>54</td></tr><tr><td>Hede</td><td>Indie</td><td>54</td></tr><tr><td>Henteko Doujin</td><td>Action</td><td>23</td></tr><tr><td>HotFoodGames</td><td>Indie</td><td>17</td></tr><tr><td>Humble Games</td><td>Indie</td><td>23</td></tr><tr><td>Humongous Entertainment, Nightdive Studios</td><td>Casual</td><td>32</td></tr><tr><td>HypeTrain Digital</td><td>Indie</td><td>17</td></tr><tr><td>INFINITE BRIDGE</td><td>Indie</td><td>27</td></tr><tr><td>INTI CREATES CO., LTD.</td><td>Action</td><td>13</td></tr><tr><td>IO Games</td><td>Indie</td><td>10</td></tr><tr><td>Indie</td><td>Indie</td><td>10</td></tr><tr><td>Interplay Entertainment Corp.</td><td>Action</td><td>17</td></tr><tr><td>Interplay Inc.</td><td>Action</td><td>11</td></tr><tr><td>InvertMouse</td><td>Indie</td><td>10</td></tr><tr><td>Ivanovich Games</td><td>Indie</td><td>12</td></tr><tr><td>JanduSoft</td><td>Indie</td><td>16</td></tr><tr><td>Jetdogs Studios</td><td>Strategy</td><td>24</td></tr><tr><td>JoyBits Ltd.</td><td>Indie</td><td>18</td></tr><tr><td>JoyBits Ltd.</td><td>Casual</td><td>18</td></tr><tr><td>KEMCO</td><td>Adventure</td><td>50</td></tr><tr><td>KOEI TECMO GAMES CO., LTD.</td><td>Strategy</td><td>35</td></tr><tr><td>Kagura Games</td><td>RPG</td><td>78</td></tr><tr><td>Kairosoft Co.,Ltd</td><td>Casual</td><td>26</td></tr><tr><td>Kairosoft Co.,Ltd</td><td>Simulation</td><td>26</td></tr><tr><td>Kairosoft Co.,Ltd</td><td>Strategy</td><td>26</td></tr><tr><td>Kairosoft Co.,Ltd</td><td>Indie</td><td>26</td></tr><tr><td>Kajak Games</td><td>Indie</td><td>10</td></tr><tr><td>Kalypso Media Digital</td><td>Strategy</td><td>28</td></tr><tr><td>Kiddy</td><td>Indie</td><td>18</td></tr><tr><td>Konami Digital Entertainment</td><td>Action</td><td>16</td></tr><tr><td>L. Stotch</td><td>Indie</td><td>15</td></tr><tr><td>LTZinc</td><td>Indie</td><td>22</td></tr><tr><td>LTZinc</td><td>Adventure</td><td>22</td></tr><tr><td>LTZinc</td><td>Simulation</td><td>22</td></tr><tr><td>Laush Studio</td><td>Indie</td><td>124</td></tr><tr><td>Libredia</td><td>Casual</td><td>14</td></tr><tr><td>Little Black Book Entertainment</td><td>Casual</td><td>12</td></tr><tr><td>Lonely Troops</td><td>Indie</td><td>10</td></tr><tr><td>Louie Inc</td><td>Indie</td><td>25</td></tr><tr><td>Lovely Games</td><td>Casual</td><td>17</td></tr><tr><td>Luci Entertainment</td><td>Indie</td><td>35</td></tr><tr><td>MACKINN7</td><td>Indie</td><td>21</td></tr><tr><td>MAGIX Software GmbH</td><td>Video Production</td><td>36</td></tr><tr><td>Meng Games</td><td>Indie</td><td>20</td></tr><tr><td>Mens Sana Interactive</td><td>Casual</td><td>20</td></tr><tr><td>Meridian4</td><td>Indie</td><td>30</td></tr><tr><td>Metal Fox</td><td>Indie</td><td>20</td></tr><tr><td>Microids</td><td>Adventure</td><td>46</td></tr><tr><td>Might and Delight</td><td>Indie</td><td>10</td></tr><tr><td>Mihai Morosanu</td><td>Indie</td><td>11</td></tr><tr><td>Mikołaj Spychał</td><td>Indie</td><td>14</td></tr><tr><td>Mikołaj Spychał</td><td>Casual</td><td>14</td></tr><tr><td>Milestone S.r.l.</td><td>Sports</td><td>33</td></tr><tr><td>Milestone S.r.l.</td><td>Racing</td><td>33</td></tr><tr><td>Morning Shift Studios</td><td>Indie</td><td>11</td></tr><tr><td>MumboJumbo</td><td>Casual</td><td>34</td></tr><tr><td>Music Breath</td><td>Utilities</td><td>10</td></tr><tr><td>My Label Game Studio</td><td>Indie</td><td>22</td></tr><tr><td>My Way Games</td><td>Indie</td><td>53</td></tr><tr><td>N/A</td><td>Indie</td><td>14</td></tr><tr><td>NEOWIZ</td><td>Action</td><td>12</td></tr><tr><td>NIS America, Inc.</td><td>RPG</td><td>30</td></tr><tr><td>NanningsGames</td><td>Casual</td><td>25</td></tr><tr><td>Narko Games</td><td>Adventure</td><td>13</td></tr><tr><td>Narko Games</td><td>Action</td><td>13</td></tr><tr><td>NedoStudio</td><td>Indie</td><td>13</td></tr><tr><td>Neon Doctrine</td><td>Indie</td><td>15</td></tr><tr><td>Nightdive Studios</td><td>Adventure</td><td>22</td></tr><tr><td>Ningbing Games</td><td>Indie</td><td>13</td></tr><tr><td>Ningbing Games</td><td>Adventure</td><td>13</td></tr><tr><td>No Gravity Games</td><td>Indie</td><td>20</td></tr><tr><td>NovaLogic, THQ Nordic</td><td>Action</td><td>10</td></tr><tr><td>OTAKU Plan</td><td>RPG</td><td>28</td></tr><tr><td>Out of the Park Developments</td><td>Strategy</td><td>12</td></tr><tr><td>Out of the Park Developments</td><td>Simulation</td><td>12</td></tr><tr><td>Out of the Park Developments</td><td>Sports</td><td>12</td></tr><tr><td>Outright Games Ltd.</td><td>Adventure</td><td>18</td></tr><tr><td>PID Games</td><td>Indie</td><td>13</td></tr><tr><td>PLAYISM</td><td>Indie</td><td>81</td></tr><tr><td>PQube</td><td>Adventure</td><td>25</td></tr><tr><td>PROATIV GAMES</td><td>Indie</td><td>15</td></tr><tr><td>PROATIV GAMES</td><td>Casual</td><td>15</td></tr><tr><td>Paradox Interactive</td><td>Strategy</td><td>56</td></tr><tr><td>Paul Connor</td><td>Action</td><td>13</td></tr><tr><td>PaulArt</td><td>Indie</td><td>11</td></tr><tr><td>Phoenix Games</td><td>RPG</td><td>12</td></tr><tr><td>Phoenix Games</td><td>Adventure</td><td>12</td></tr><tr><td>Phoenix Online Publishing</td><td>Adventure</td><td>15</td></tr><tr><td>Phoenixxx Games</td><td>Indie</td><td>16</td></tr><tr><td>Phr00t's Software</td><td>Indie</td><td>13</td></tr><tr><td>Piece Of Voxel</td><td>Indie</td><td>79</td></tr><tr><td>Pixel Puzzles</td><td>Simulation</td><td>14</td></tr><tr><td>Pixel Puzzles</td><td>Indie</td><td>14</td></tr><tr><td>Pixel Puzzles</td><td>Casual</td><td>14</td></tr><tr><td>Pixeljam</td><td>Indie</td><td>13</td></tr><tr><td>PopCap Games, Inc., Electronic Arts</td><td>Casual</td><td>11</td></tr><tr><td>PsychoFlux Entertainment</td><td>Indie</td><td>45</td></tr><tr><td>Pujia8 Studio</td><td>Indie</td><td>14</td></tr><tr><td>Quiet River</td><td>Indie</td><td>23</td></tr><tr><td>Qumaron</td><td>Casual</td><td>33</td></tr><tr><td>ROSEVERTE</td><td>Casual</td><td>12</td></tr><tr><td>ROSEVERTE</td><td>Adventure</td><td>12</td></tr><tr><td>ROSEVERTE</td><td>Indie</td><td>12</td></tr><tr><td>Randumb Studios</td><td>Simulation</td><td>18</td></tr><tr><td>Ratalaika Games S.L.</td><td>Indie</td><td>25</td></tr><tr><td>Ravenscourt</td><td>Adventure</td><td>11</td></tr><tr><td>Raw Fury</td><td>Indie</td><td>28</td></tr><tr><td>Red twice potato</td><td>Indie</td><td>20</td></tr><tr><td>Retroism, Nightdive Studios</td><td>Simulation</td><td>13</td></tr><tr><td>RewindApp</td><td>Indie</td><td>59</td></tr><tr><td>Rex Junior</td><td>Indie</td><td>20</td></tr><tr><td>Rex Junior</td><td>Casual</td><td>20</td></tr><tr><td>Ripstone</td><td>Indie</td><td>12</td></tr><tr><td>Rising Moon Games</td><td>Indie</td><td>11</td></tr><tr><td>Rising Moon Games</td><td>Casual</td><td>11</td></tr><tr><td>Rising Star Games</td><td>Action</td><td>14</td></tr><tr><td>Rockstar Games</td><td>Action</td><td>16</td></tr><tr><td>RunServer</td><td>Indie</td><td>19</td></tr><tr><td>SA Industry</td><td>Indie</td><td>76</td></tr><tr><td>SEEP</td><td>Indie</td><td>12</td></tr><tr><td>SMU Guildhall</td><td>Free to Play</td><td>12</td></tr><tr><td>SMU Guildhall</td><td>Indie</td><td>12</td></tr><tr><td>SNEG</td><td>RPG</td><td>11</td></tr><tr><td>SNK CORPORATION</td><td>Action</td><td>24</td></tr><tr><td>SOEDESCO</td><td>Adventure</td><td>17</td></tr><tr><td>SVGames</td><td>Indie</td><td>11</td></tr><tr><td>Sabrina Aridi</td><td>Indie</td><td>12</td></tr><tr><td>Sacada</td><td>Indie</td><td>22</td></tr><tr><td>Sacada</td><td>Casual</td><td>22</td></tr><tr><td>Sacada</td><td>Strategy</td><td>22</td></tr><tr><td>Sekai Project</td><td>Casual</td><td>99</td></tr><tr><td>Senpai Studios</td><td>Indie</td><td>22</td></tr><tr><td>Siberian Mouse</td><td>Indie</td><td>10</td></tr><tr><td>Siberian Mouse</td><td>Casual</td><td>10</td></tr><tr><td>Silver Cow Studio</td><td>Indie</td><td>11</td></tr><tr><td>Silver Cow Studio</td><td>Simulation</td><td>11</td></tr><tr><td>Sinned Games</td><td>Indie</td><td>10</td></tr><tr><td>Sinned Games</td><td>Action</td><td>10</td></tr><tr><td>Skunkape Games</td><td>Adventure</td><td>16</td></tr><tr><td>Skybound Games</td><td>Adventure</td><td>10</td></tr><tr><td>Snkl Studio</td><td>Indie</td><td>28</td></tr><tr><td>Snkl Studio</td><td>Casual</td><td>28</td></tr><tr><td>Sokpop Collective</td><td>Indie</td><td>97</td></tr><tr><td>Sometimes You</td><td>Indie</td><td>47</td></tr><tr><td>SosiskaGames</td><td>Indie</td><td>15</td></tr><tr><td>Spike Chunsoft Co., Ltd.</td><td>Adventure</td><td>22</td></tr><tr><td>Sprovieri Games</td><td>Casual</td><td>12</td></tr><tr><td>Square Enix</td><td>Action</td><td>75</td></tr><tr><td>Stardock</td><td>Utilities</td><td>10</td></tr><tr><td>Stegalosaurus Game Development</td><td>Indie</td><td>18</td></tr><tr><td>Strategy First</td><td>Strategy</td><td>52</td></tr><tr><td>Sweet Games</td><td>Simulation</td><td>12</td></tr><tr><td>Sweet Games</td><td>Indie</td><td>12</td></tr><tr><td>Sweet Games</td><td>Adventure</td><td>12</td></tr><tr><td>Sweet Games</td><td>Action</td><td>12</td></tr><tr><td>TALESSHOP Co., Ltd.</td><td>Indie</td><td>10</td></tr><tr><td>TALESSHOP Co., Ltd.</td><td>Casual</td><td>10</td></tr><tr><td>THQ Nordic</td><td>Action</td><td>57</td></tr><tr><td>Tamashii</td><td>Casual</td><td>16</td></tr><tr><td>Tegridy Made Games</td><td>Indie</td><td>14</td></tr><tr><td>Telltale</td><td>Adventure</td><td>15</td></tr><tr><td>Telltale Games</td><td>Adventure</td><td>15</td></tr><tr><td>Toge Productions</td><td>Indie</td><td>10</td></tr><tr><td>Tonguç Bodur</td><td>Adventure</td><td>18</td></tr><tr><td>Triority Interactive Novels</td><td>Adventure</td><td>11</td></tr><tr><td>Triority Interactive Novels</td><td>Casual</td><td>11</td></tr><tr><td>Triority Interactive Novels</td><td>Indie</td><td>11</td></tr><tr><td>Tripwire Interactive</td><td>Action</td><td>11</td></tr><tr><td>Twin Sails Interactive</td><td>Strategy</td><td>15</td></tr><tr><td>United Independent Entertainment</td><td>Simulation</td><td>37</td></tr><tr><td>Vaka Game Magazine</td><td>Indie</td><td>10</td></tr><tr><td>Valve</td><td>Action</td><td>27</td></tr><tr><td>Vidas Salavejus</td><td>Indie</td><td>11</td></tr><tr><td>W.T.B.</td><td>Indie</td><td>23</td></tr><tr><td>WASABI entertainment</td><td>RPG</td><td>17</td></tr><tr><td>Wadjet Eye Games</td><td>Adventure</td><td>15</td></tr><tr><td>Wales Interactive</td><td>Indie</td><td>14</td></tr><tr><td>Wales Interactive</td><td>Adventure</td><td>14</td></tr><tr><td>Walter Machado</td><td>Action</td><td>17</td></tr><tr><td>Walter Machado</td><td>Indie</td><td>17</td></tr><tr><td>Warfare Studios</td><td>Adventure</td><td>22</td></tr><tr><td>Warfare Studios</td><td>Casual</td><td>22</td></tr><tr><td>Warfare Studios</td><td>Indie</td><td>22</td></tr><tr><td>Warfare Studios</td><td>RPG</td><td>22</td></tr><tr><td>Warner Bros. Interactive Entertainment</td><td>Action</td><td>24</td></tr><tr><td>Winged Cloud</td><td>Simulation</td><td>28</td></tr><tr><td>Winter Wolves</td><td>Indie</td><td>20</td></tr><tr><td>XSEED Games, Marvelous USA, Inc.</td><td>RPG</td><td>19</td></tr><tr><td>XSEED Games, Marvelous USA, Inc., Marvelous</td><td>Action</td><td>13</td></tr><tr><td>Xbox Game Studios</td><td>Action</td><td>27</td></tr><tr><td>Xitilon</td><td>Indie</td><td>11</td></tr><tr><td>YAW Studios</td><td>Indie</td><td>14</td></tr><tr><td>YAW Studios</td><td>Casual</td><td>14</td></tr><tr><td>Yai Gameworks</td><td>Indie</td><td>11</td></tr><tr><td>Yai Gameworks</td><td>Adventure</td><td>11</td></tr><tr><td>Zachtronics</td><td>Indie</td><td>16</td></tr><tr><td>Zeiva Inc</td><td>Casual</td><td>11</td></tr><tr><td>Zeiva Inc</td><td>Indie</td><td>11</td></tr><tr><td>Zeiva Inc</td><td>Adventure</td><td>11</td></tr><tr><td>Ziggurat, 612 Games</td><td>Action</td><td>11</td></tr><tr><td>aNCHOR Inc.</td><td>Adventure</td><td>10</td></tr><tr><td>astragon Entertainment</td><td>Simulation</td><td>18</td></tr><tr><td>b-alive gmbh</td><td>Indie</td><td>15</td></tr><tr><td>b-alive gmbh</td><td>Casual</td><td>15</td></tr><tr><td>b-alive gmbh</td><td>Simulation</td><td>15</td></tr><tr><td>baKno Games</td><td>Casual</td><td>19</td></tr><tr><td>baKno Games</td><td>Indie</td><td>19</td></tr><tr><td>cBlck</td><td>Indie</td><td>15</td></tr><tr><td>ebi-hime</td><td>Indie</td><td>22</td></tr><tr><td>exosyphen studios</td><td>Indie</td><td>10</td></tr><tr><td>familyplay</td><td>Casual</td><td>35</td></tr><tr><td>grin robot</td><td>Indie</td><td>10</td></tr><tr><td>iWin</td><td>Casual</td><td>12</td></tr><tr><td>indiegames3000</td><td>Indie</td><td>17</td></tr><tr><td>indienova</td><td>Indie</td><td>11</td></tr><tr><td>kazakovstudios</td><td>Indie</td><td>23</td></tr><tr><td>khukhrovr</td><td>Indie</td><td>29</td></tr><tr><td>kovalevviktor</td><td>Indie</td><td>33</td></tr><tr><td>lightUP</td><td>Adventure</td><td>12</td></tr><tr><td>lightUP</td><td>Indie</td><td>12</td></tr><tr><td>magnussoft</td><td>Casual</td><td>11</td></tr><tr><td>meokigame</td><td>Indie</td><td>10</td></tr><tr><td>tinyBuild</td><td>Indie</td><td>70</td></tr><tr><td>upjers</td><td>Casual</td><td>17</td></tr><tr><td>冷笑黑妖</td><td>Indie</td><td>13</td></tr><tr><td>杰游科技</td><td>Action</td><td>18</td></tr><tr><td>杰游科技</td><td>Indie</td><td>18</td></tr><tr><td>杰游科技</td><td>Adventure</td><td>18</td></tr><tr><td>橙光游戏</td><td>Indie</td><td>28</td></tr><tr><td>橙光游戏</td><td>RPG</td><td>28</td></tr><tr><td>橙光游戏</td><td>Adventure</td><td>28</td></tr><tr><td>橙光游戏</td><td>Casual</td><td>28</td></tr><tr><td>玫瑰工作室</td><td>Casual</td><td>43</td></tr></tbody></table></div>"
      ]
     },
     "metadata": {
      "application/vnd.databricks.v1+output": {
       "addedWidgets": {},
       "aggData": [],
       "aggError": "",
       "aggOverflow": false,
       "aggSchema": [],
       "aggSeriesLimitReached": false,
       "aggType": "",
       "arguments": {},
       "columnCustomDisplayInfos": {},
       "data": [
        [
         "505 Games",
         "Action",
         28
        ],
        [
         "8Floor",
         "Casual",
         41
        ],
        [
         "8floor",
         "Casual",
         202
        ],
        [
         "Activision",
         "Action",
         28
        ],
        [
         "Aerosoft GmbH",
         "Simulation",
         33
        ],
        [
         "Akupara Games",
         "Indie",
         15
        ],
        [
         "Amaterasu Software",
         "Indie",
         10
        ],
        [
         "Annapurna Interactive",
         "Adventure",
         21
        ],
        [
         "Application Systems Heidelberg",
         "Indie",
         11
        ],
        [
         "Arcen Games, LLC",
         "Indie",
         11
        ],
        [
         "Artifex Mundi",
         "Casual",
         73
        ],
        [
         "Assemble Entertainment",
         "Adventure",
         22
        ],
        [
         "Atari",
         "Action",
         22
        ],
        [
         "BANDAI NAMCO Entertainment",
         "Action",
         52
        ],
        [
         "Big Black Bear",
         "Indie",
         33
        ],
        [
         "Big Fish Games",
         "Casual",
         418
        ],
        [
         "Black Phoenix Studio",
         "Indie",
         10
        ],
        [
         "Bohemia Interactive",
         "Action",
         13
        ],
        [
         "Boomzap Inc",
         "Casual",
         13
        ],
        [
         "Brewsterland Studios",
         "RPG",
         15
        ],
        [
         "CAPCOM Co., Ltd.",
         "Action",
         20
        ],
        [
         "CFK Co., Ltd.",
         "Indie",
         20
        ],
        [
         "Cateia Games",
         "Indie",
         14
        ],
        [
         "Chucklefish",
         "Indie",
         11
        ],
        [
         "Codemasters, Electronic Arts",
         "Racing",
         10
        ],
        [
         "Cosmi Valusoft",
         "Simulation",
         13
        ],
        [
         "Crescent Moon Games",
         "Indie",
         14
        ],
        [
         "Crew Lab",
         "Casual",
         13
        ],
        [
         "Crew Lab",
         "Indie",
         13
        ],
        [
         "Crisp App Studio",
         "Casual",
         17
        ],
        [
         "Crisp App Studio",
         "Indie",
         17
        ],
        [
         "Crisp App Studio",
         "Adventure",
         17
        ],
        [
         "Cute Hannah's Games",
         "Casual",
         24
        ],
        [
         "D3PUBLISHER",
         "Action",
         11
        ],
        [
         "DANGEN Entertainment",
         "Indie",
         11
        ],
        [
         "DNA ARMY GAMING",
         "Indie",
         10
        ],
        [
         "DSGame",
         "Casual",
         17
        ],
        [
         "Dear Villagers",
         "Indie",
         16
        ],
        [
         "Dharker Studios Ltd",
         "Indie",
         18
        ],
        [
         "Dikobraz Games",
         "Indie",
         11
        ],
        [
         "Displacement Studios",
         "Indie",
         16
        ],
        [
         "Droid Riot",
         "Indie",
         42
        ],
        [
         "Educational Games",
         "Casual",
         14
        ],
        [
         "Educational Games",
         "Indie",
         14
        ],
        [
         "Electronic Arts",
         "Action",
         57
        ],
        [
         "Enaayah Software Development and Services Private Limited",
         "Action",
         16
        ],
        [
         "EpiXR Games UG",
         "Indie",
         27
        ],
        [
         "Fury Games Production",
         "Indie",
         12
        ],
        [
         "Gamenesis",
         "Indie",
         18
        ],
        [
         "Gamera Interactive",
         "Indie",
         13
        ],
        [
         "Garage Games",
         "Indie",
         56
        ],
        [
         "Gigantum Games",
         "Indie",
         18
        ],
        [
         "Gotcha Gotcha Games",
         "Action",
         12
        ],
        [
         "Gotcha Gotcha Games",
         "RPG",
         12
        ],
        [
         "GrabTheGames",
         "Indie",
         49
        ],
        [
         "Graffiti Games",
         "Indie",
         14
        ],
        [
         "Green Man Gaming Publishing",
         "Indie",
         12
        ],
        [
         "Grey Alien Games",
         "Casual",
         24
        ],
        [
         "HandMade Games",
         "Indie",
         34
        ],
        [
         "Headup Games",
         "Indie",
         14
        ],
        [
         "Hede Games, Hede",
         "Casual",
         10
        ],
        [
         "Hede Games, Hede",
         "Indie",
         10
        ],
        [
         "Hede Games, Hede",
         "Action",
         10
        ],
        [
         "HexWar Games",
         "Strategy",
         42
        ],
        [
         "Hosted Games",
         "RPG",
         79
        ],
        [
         "Hosted Games",
         "Indie",
         79
        ],
        [
         "HugePixel",
         "Indie",
         15
        ],
        [
         "Hunny Bunny Studio",
         "Indie",
         14
        ],
        [
         "Hunny Bunny Studio",
         "Casual",
         14
        ],
        [
         "INDIECN",
         "Indie",
         15
        ],
        [
         "Iceberg Interactive",
         "Indie",
         39
        ],
        [
         "Idea Factory International",
         "RPG",
         16
        ],
        [
         "ImperiumGame",
         "Indie",
         40
        ],
        [
         "IndieGala",
         "Action",
         10
        ],
        [
         "IndieGala",
         "Indie",
         10
        ],
        [
         "Individual Software",
         "Software Training",
         22
        ],
        [
         "Interactive Pixel Entmt.",
         "Indie",
         17
        ],
        [
         "Interactive Pixel Entmt.",
         "Casual",
         17
        ],
        [
         "Jackbox Games, Inc.",
         "Indie",
         23
        ],
        [
         "KISS ltd",
         "Indie",
         22
        ],
        [
         "KPL",
         "Indie",
         16
        ],
        [
         "Kalypso Media",
         "Strategy",
         11
        ],
        [
         "Kavkaz Sila Games",
         "Simulation",
         14
        ],
        [
         "KazakovStudios",
         "Indie",
         12
        ],
        [
         "Kedexa",
         "Casual",
         22
        ],
        [
         "Klabater",
         "Adventure",
         10
        ],
        [
         "Klabater",
         "Indie",
         10
        ],
        [
         "Komodo",
         "Action",
         31
        ],
        [
         "Konnichiwa Games",
         "Action",
         10
        ],
        [
         "LGT SIA",
         "Casual",
         10
        ],
        [
         "LGT SIA",
         "Indie",
         10
        ],
        [
         "LoadUpGames.com",
         "Casual",
         10
        ],
        [
         "LucasArts, Lucasfilm, Disney",
         "Action",
         18
        ],
        [
         "MIRROR Soft",
         "Action",
         10
        ],
        [
         "MIRROR Soft",
         "Strategy",
         10
        ],
        [
         "MangaGamer",
         "Adventure",
         45
        ],
        [
         "Mediascape Co., Ltd.",
         "Action",
         17
        ],
        [
         "Merge Games",
         "Indie",
         13
        ],
        [
         "Microids Indie",
         "Adventure",
         10
        ],
        [
         "Microïds Indie",
         "Adventure",
         11
        ],
        [
         "Minimol Games",
         "Casual",
         26
        ],
        [
         "Modus Games",
         "Indie",
         11
        ],
        [
         "MoonlightGames",
         "Indie",
         10
        ],
        [
         "MoonlightGames",
         "Action",
         10
        ],
        [
         "Movavi Software",
         "Video Production",
         17
        ],
        [
         "NS",
         "Indie",
         17
        ],
        [
         "NVLMaker",
         "Indie",
         13
        ],
        [
         "Nacks Soft",
         "Indie",
         11
        ],
        [
         "Nacks Soft",
         "Action",
         11
        ],
        [
         "Nacks Soft",
         "Adventure",
         11
        ],
        [
         "Nacon",
         "Sports",
         33
        ],
        [
         "Naoka Games",
         "Casual",
         10
        ],
        [
         "New Reality Games",
         "Indie",
         32
        ],
        [
         "Nicalis, Inc.",
         "Action",
         16
        ],
        [
         "None",
         "Indie",
         19
        ],
        [
         "Notus Games Ltd",
         "Casual",
         11
        ],
        [
         "Oh, a Rock! Studios",
         "Indie",
         10
        ],
        [
         "Paradise Project",
         "Indie",
         22
        ],
        [
         "Peaksel",
         "Casual",
         11
        ],
        [
         "Phat Phrog Studios",
         "Indie",
         10
        ],
        [
         "Piko Interactive LLC, Bleem!",
         "Action",
         32
        ],
        [
         "Pixel Games UK",
         "Action",
         29
        ],
        [
         "PlayWay S.A.",
         "Simulation",
         13
        ],
        [
         "Plug In Digital",
         "Indie",
         79
        ],
        [
         "PopCap Games, Inc.",
         "Casual",
         19
        ],
        [
         "Positech Games",
         "Strategy",
         11
        ],
        [
         "Positech Games",
         "Indie",
         11
        ],
        [
         "Prime Matter",
         "Action",
         11
        ],
        [
         "Quarlellle",
         "Indie",
         25
        ],
        [
         "QuickBobber",
         "Indie",
         12
        ],
        [
         "Rainbow Games",
         "Casual",
         10
        ],
        [
         "Rebellion",
         "Action",
         25
        ],
        [
         "Reforged Group",
         "Indie",
         88
        ],
        [
         "Renegade Sector Games",
         "Action",
         12
        ],
        [
         "Reverb Triple XP",
         "Indie",
         10
        ],
        [
         "Revmatek",
         "Indie",
         12
        ],
        [
         "Revmatek",
         "Casual",
         12
        ],
        [
         "Ripknot Systems",
         "Casual",
         55
        ],
        [
         "SC Jogos",
         "Indie",
         14
        ],
        [
         "SEGA",
         "Action",
         80
        ],
        [
         "SEGA, Feral Interactive (Mac), Feral Interactive (Linux)",
         "Strategy",
         13
        ],
        [
         "SOFTSTAR ENTERTAINMENT",
         "RPG",
         13
        ],
        [
         "SakuraGame",
         "Adventure",
         26
        ],
        [
         "SakuraGame",
         "Indie",
         26
        ],
        [
         "Sapphire Dragon Productions",
         "Casual",
         12
        ],
        [
         "Screen 7",
         "Adventure",
         10
        ],
        [
         "Screen 7",
         "Indie",
         10
        ],
        [
         "SeedWall",
         "Indie",
         14
        ],
        [
         "Serenity Forge",
         "Indie",
         10
        ],
        [
         "Shaman Games Studio",
         "Casual",
         14
        ],
        [
         "Shiravune",
         "Adventure",
         16
        ],
        [
         "Sigma Team Inc.",
         "Indie",
         13
        ],
        [
         "Simulators Live",
         "Simulation",
         11
        ],
        [
         "Slitherine Ltd.",
         "Strategy",
         96
        ],
        [
         "Spiderweb Software",
         "RPG",
         18
        ],
        [
         "Spiderweb Software",
         "Indie",
         18
        ],
        [
         "Stardock Entertainment",
         "Strategy",
         18
        ],
        [
         "Starship Studio",
         "Indie",
         15
        ],
        [
         "Studio Inward",
         "Indie",
         11
        ],
        [
         "Studio2760",
         "Adventure",
         12
        ],
        [
         "Tap by Tap",
         "Indie",
         10
        ],
        [
         "Team Syukino",
         "RPG",
         10
        ],
        [
         "Team17",
         "Indie",
         21
        ],
        [
         "Team17 Digital Ltd",
         "Indie",
         25
        ],
        [
         "Tero Lunkka",
         "Indie",
         68
        ],
        [
         "TigerQiuQiu",
         "Action",
         18
        ],
        [
         "TigerQiuQiu",
         "Indie",
         18
        ],
        [
         "Tin Man Games",
         "Adventure",
         12
        ],
        [
         "Tin Man Games",
         "Indie",
         12
        ],
        [
         "Toplitz Productions",
         "Simulation",
         13
        ],
        [
         "Tranquility games",
         "Casual",
         13
        ],
        [
         "Tranquility games",
         "Indie",
         13
        ],
        [
         "Trinity Project",
         "Indie",
         39
        ],
        [
         "USERJOY Technology Co.,Ltd.",
         "RPG",
         16
        ],
        [
         "Ubisoft",
         "Action",
         70
        ],
        [
         "Ultimate Games S.A.",
         "Indie",
         14
        ],
        [
         "Versus Evil",
         "Indie",
         23
        ],
        [
         "Vitok",
         "Casual",
         10
        ],
        [
         "Viva Media",
         "Casual",
         13
        ],
        [
         "Volens Nolens Games",
         "Indie",
         44
        ],
        [
         "WayForward",
         "Action",
         10
        ],
        [
         "Whale Rock Games",
         "Indie",
         13
        ],
        [
         "William at Oxford",
         "Casual",
         51
        ],
        [
         "Wired Productions",
         "Indie",
         13
        ],
        [
         "Wolverine Studios",
         "Indie",
         24
        ],
        [
         "Wolverine Studios",
         "Simulation",
         24
        ],
        [
         "Wolverine Studios",
         "Sports",
         24
        ],
        [
         "Ziggurat",
         "Action",
         58
        ],
        [
         "Zoo Corporation",
         "Casual",
         30
        ],
        [
         "azimuth team",
         "Indie",
         16
        ],
        [
         "beans rolls",
         "Casual",
         13
        ],
        [
         "eSolutions Nordic AB",
         "Indie",
         12
        ],
        [
         "eSolutions Nordic AB",
         "Casual",
         12
        ],
        [
         "id Software",
         "Action",
         16
        ],
        [
         "inXile Entertainment",
         "RPG",
         10
        ],
        [
         "indie_games_studio",
         "Indie",
         23
        ],
        [
         "КиКо",
         "Indie",
         13
        ],
        [
         "凝冰剑斩",
         "Indie",
         10
        ],
        [
         "凝冰剑斩",
         "RPG",
         10
        ],
        [
         "",
         "Indie",
         106
        ],
        [
         "0Cube",
         "Adventure",
         19
        ],
        [
         "0Cube",
         "Indie",
         19
        ],
        [
         "0Cube",
         "RPG",
         19
        ],
        [
         "10tons Ltd",
         "Indie",
         16
        ],
        [
         "2K",
         "Action",
         25
        ],
        [
         "3D Realms (Apogee Software)",
         "Action",
         16
        ],
        [
         "AFBIK Studio",
         "Casual",
         20
        ],
        [
         "AFBIK Studio",
         "Indie",
         20
        ],
        [
         "ANPA.US",
         "Indie",
         32
        ],
        [
         "Absolutist Ltd.",
         "Adventure",
         10
        ],
        [
         "Adult Swim Games",
         "Action",
         15
        ],
        [
         "Adult Swim Games",
         "Indie",
         15
        ],
        [
         "Ahlman Game Studio",
         "Free to Play",
         11
        ],
        [
         "Alawar Entertainment",
         "Casual",
         105
        ],
        [
         "Aldorlea Games",
         "RPG",
         49
        ],
        [
         "Alternative Software Ltd",
         "Sports",
         11
        ],
        [
         "Alternative Software Ltd",
         "Simulation",
         11
        ],
        [
         "Ammonite Design Studios Ltd",
         "Indie",
         14
        ],
        [
         "Anamik Majumdar",
         "Indie",
         40
        ],
        [
         "Anarchy Enterprises",
         "Indie",
         10
        ],
        [
         "Anatoliy Loginovskikh",
         "Indie",
         26
        ],
        [
         "Andy Jurko",
         "Indie",
         17
        ],
        [
         "Andy Jurko",
         "Casual",
         17
        ],
        [
         "Apogee Entertainment",
         "Action",
         14
        ],
        [
         "Arc System Works",
         "Action",
         27
        ],
        [
         "Armor Games Studios",
         "Indie",
         22
        ],
        [
         "Astero",
         "Action",
         12
        ],
        [
         "Astero",
         "Indie",
         12
        ],
        [
         "Atomic Fabrik, Cristian Manolachi",
         "Simulation",
         44
        ],
        [
         "Atomic Fabrik, Cristian Manolachi",
         "Indie",
         44
        ],
        [
         "Avalon Digital",
         "Strategy",
         15
        ],
        [
         "Back To Basics Gaming",
         "Indie",
         53
        ],
        [
         "BadLand Publishing",
         "Indie",
         11
        ],
        [
         "Bandai Namco Entertainment",
         "Action",
         10
        ],
        [
         "BekkerDev Studio",
         "Indie",
         11
        ],
        [
         "BekkerDev Studio",
         "Adventure",
         11
        ],
        [
         "Bethesda Softworks",
         "Action",
         37
        ],
        [
         "Bitlock Studio",
         "Indie",
         33
        ],
        [
         "Blaze Epic",
         "Action",
         10
        ],
        [
         "Blaze Epic",
         "Indie",
         10
        ],
        [
         "Blender Games",
         "Indie",
         70
        ],
        [
         "Blender Games",
         "Casual",
         70
        ],
        [
         "Blowfish Studios",
         "Indie",
         10
        ],
        [
         "Blowfish Studios",
         "Action",
         10
        ],
        [
         "Boogygames Studios",
         "Indie",
         78
        ],
        [
         "Boom Games",
         "Adventure",
         14
        ],
        [
         "Boom Games",
         "Indie",
         14
        ],
        [
         "Boom Games",
         "Action",
         14
        ],
        [
         "Boom Games",
         "Simulation",
         14
        ],
        [
         "Bullid Games",
         "Indie",
         18
        ],
        [
         "Bullid Games",
         "Casual",
         18
        ],
        [
         "CI Games",
         "Action",
         10
        ],
        [
         "CITY CONNECTION",
         "Action",
         18
        ],
        [
         "Capcom",
         "Action",
         32
        ],
        [
         "Casual Arts",
         "Casual",
         20
        ],
        [
         "Chilla's Art",
         "Adventure",
         17
        ],
        [
         "Chilla's Art",
         "Indie",
         17
        ],
        [
         "Choice of Games",
         "RPG",
         139
        ],
        [
         "Clouded Leopard Entertainment",
         "RPG",
         11
        ],
        [
         "Cristian Manolachi, Atomic Fabrik",
         "Indie",
         21
        ],
        [
         "Crytivo",
         "Indie",
         10
        ],
        [
         "Curve Games",
         "Indie",
         28
        ],
        [
         "Cyan Worlds Inc",
         "Adventure",
         10
        ],
        [
         "DIG Publishing",
         "Casual",
         10
        ],
        [
         "DIG Publishing",
         "Indie",
         10
        ],
        [
         "DLsite",
         "Indie",
         19
        ],
        [
         "Daedalic Entertainment",
         "Indie",
         66
        ],
        [
         "Deep Silver",
         "Action",
         24
        ],
        [
         "Denda Games",
         "Casual",
         11
        ],
        [
         "Devolver Digital",
         "Indie",
         87
        ],
        [
         "Digerati",
         "Indie",
         18
        ],
        [
         "DigiMight",
         "Casual",
         16
        ],
        [
         "DigiPen Institute of Technology",
         "Action",
         25
        ],
        [
         "Digital Tribe",
         "Indie",
         24
        ],
        [
         "DillyFrame",
         "Indie",
         14
        ],
        [
         "Disney",
         "Adventure",
         26
        ],
        [
         "Disney",
         "Action",
         26
        ],
        [
         "Dnovel",
         "Adventure",
         41
        ],
        [
         "Dogenzaka Lab",
         "Adventure",
         15
        ],
        [
         "DominiGames",
         "Adventure",
         13
        ],
        [
         "DominiGames",
         "Casual",
         13
        ],
        [
         "Double Fine Productions",
         "Adventure",
         10
        ],
        [
         "EGAMER",
         "Indie",
         19
        ],
        [
         "EGAMER",
         "Casual",
         19
        ],
        [
         "ESDigital Games",
         "Casual",
         37
        ],
        [
         "Enoops",
         "Indie",
         41
        ],
        [
         "EnsenaSoft",
         "Casual",
         32
        ],
        [
         "Eversim",
         "Simulation",
         10
        ],
        [
         "Excalibur Publishing",
         "Simulation",
         13
        ],
        [
         "FIVE-BN GAMES",
         "Adventure",
         24
        ],
        [
         "Fellow Traveller",
         "Indie",
         18
        ],
        [
         "FireFly Studios",
         "Strategy",
         10
        ],
        [
         "Flying Interactive",
         "Indie",
         14
        ],
        [
         "FobTi interactive",
         "Indie",
         10
        ],
        [
         "Focus Entertainment",
         "Action",
         23
        ],
        [
         "Follow The Fun",
         "Casual",
         11
        ],
        [
         "Follow The Fun",
         "Indie",
         11
        ],
        [
         "For Kids",
         "Casual",
         32
        ],
        [
         "For Kids",
         "Indie",
         32
        ],
        [
         "Forever Entertainment S. A.",
         "Indie",
         54
        ],
        [
         "Freedom Games",
         "Indie",
         20
        ],
        [
         "FreezeNova.Games",
         "Indie",
         18
        ],
        [
         "Frogwares",
         "Adventure",
         14
        ],
        [
         "Frontwing USA",
         "Casual",
         23
        ],
        [
         "Fruitbat Factory",
         "Indie",
         23
        ],
        [
         "Fulqrum Publishing",
         "Strategy",
         56
        ],
        [
         "Funbox Media Ltd",
         "Action",
         19
        ],
        [
         "Funcom",
         "Adventure",
         10
        ],
        [
         "Game for people",
         "Indie",
         13
        ],
        [
         "GameHouse",
         "Casual",
         35
        ],
        [
         "Gamera Games",
         "Indie",
         26
        ],
        [
         "Gearbox Publishing",
         "Action",
         11
        ],
        [
         "Ghost_RUS Games",
         "Indie",
         50
        ],
        [
         "Ghostlight LTD",
         "Strategy",
         11
        ],
        [
         "Good Shepherd Entertainment",
         "Indie",
         20
        ],
        [
         "Green Sauce Games",
         "Casual",
         12
        ],
        [
         "Green Sauce Games",
         "Indie",
         12
        ],
        [
         "H2 Interactive Co., Ltd.",
         "Action",
         10
        ],
        [
         "HH-Games",
         "Casual",
         132
        ],
        [
         "HIKARI FIELD",
         "Adventure",
         19
        ],
        [
         "HaDe Games",
         "Indie",
         11
        ],
        [
         "Half-Face Games",
         "Indie",
         11
        ],
        [
         "Hanako Games",
         "Indie",
         11
        ],
        [
         "HandyGames",
         "Indie",
         20
        ],
        [
         "HeR Interactive",
         "Adventure",
         29
        ],
        [
         "Headup",
         "Indie",
         34
        ],
        [
         "Hede",
         "Action",
         54
        ],
        [
         "Hede",
         "Indie",
         54
        ],
        [
         "Henteko Doujin",
         "Action",
         23
        ],
        [
         "HotFoodGames",
         "Indie",
         17
        ],
        [
         "Humble Games",
         "Indie",
         23
        ],
        [
         "Humongous Entertainment, Nightdive Studios",
         "Casual",
         32
        ],
        [
         "HypeTrain Digital",
         "Indie",
         17
        ],
        [
         "INFINITE BRIDGE",
         "Indie",
         27
        ],
        [
         "INTI CREATES CO., LTD.",
         "Action",
         13
        ],
        [
         "IO Games",
         "Indie",
         10
        ],
        [
         "Indie",
         "Indie",
         10
        ],
        [
         "Interplay Entertainment Corp.",
         "Action",
         17
        ],
        [
         "Interplay Inc.",
         "Action",
         11
        ],
        [
         "InvertMouse",
         "Indie",
         10
        ],
        [
         "Ivanovich Games",
         "Indie",
         12
        ],
        [
         "JanduSoft",
         "Indie",
         16
        ],
        [
         "Jetdogs Studios",
         "Strategy",
         24
        ],
        [
         "JoyBits Ltd.",
         "Indie",
         18
        ],
        [
         "JoyBits Ltd.",
         "Casual",
         18
        ],
        [
         "KEMCO",
         "Adventure",
         50
        ],
        [
         "KOEI TECMO GAMES CO., LTD.",
         "Strategy",
         35
        ],
        [
         "Kagura Games",
         "RPG",
         78
        ],
        [
         "Kairosoft Co.,Ltd",
         "Casual",
         26
        ],
        [
         "Kairosoft Co.,Ltd",
         "Simulation",
         26
        ],
        [
         "Kairosoft Co.,Ltd",
         "Strategy",
         26
        ],
        [
         "Kairosoft Co.,Ltd",
         "Indie",
         26
        ],
        [
         "Kajak Games",
         "Indie",
         10
        ],
        [
         "Kalypso Media Digital",
         "Strategy",
         28
        ],
        [
         "Kiddy",
         "Indie",
         18
        ],
        [
         "Konami Digital Entertainment",
         "Action",
         16
        ],
        [
         "L. Stotch",
         "Indie",
         15
        ],
        [
         "LTZinc",
         "Indie",
         22
        ],
        [
         "LTZinc",
         "Adventure",
         22
        ],
        [
         "LTZinc",
         "Simulation",
         22
        ],
        [
         "Laush Studio",
         "Indie",
         124
        ],
        [
         "Libredia",
         "Casual",
         14
        ],
        [
         "Little Black Book Entertainment",
         "Casual",
         12
        ],
        [
         "Lonely Troops",
         "Indie",
         10
        ],
        [
         "Louie Inc",
         "Indie",
         25
        ],
        [
         "Lovely Games",
         "Casual",
         17
        ],
        [
         "Luci Entertainment",
         "Indie",
         35
        ],
        [
         "MACKINN7",
         "Indie",
         21
        ],
        [
         "MAGIX Software GmbH",
         "Video Production",
         36
        ],
        [
         "Meng Games",
         "Indie",
         20
        ],
        [
         "Mens Sana Interactive",
         "Casual",
         20
        ],
        [
         "Meridian4",
         "Indie",
         30
        ],
        [
         "Metal Fox",
         "Indie",
         20
        ],
        [
         "Microids",
         "Adventure",
         46
        ],
        [
         "Might and Delight",
         "Indie",
         10
        ],
        [
         "Mihai Morosanu",
         "Indie",
         11
        ],
        [
         "Mikołaj Spychał",
         "Indie",
         14
        ],
        [
         "Mikołaj Spychał",
         "Casual",
         14
        ],
        [
         "Milestone S.r.l.",
         "Sports",
         33
        ],
        [
         "Milestone S.r.l.",
         "Racing",
         33
        ],
        [
         "Morning Shift Studios",
         "Indie",
         11
        ],
        [
         "MumboJumbo",
         "Casual",
         34
        ],
        [
         "Music Breath",
         "Utilities",
         10
        ],
        [
         "My Label Game Studio",
         "Indie",
         22
        ],
        [
         "My Way Games",
         "Indie",
         53
        ],
        [
         "N/A",
         "Indie",
         14
        ],
        [
         "NEOWIZ",
         "Action",
         12
        ],
        [
         "NIS America, Inc.",
         "RPG",
         30
        ],
        [
         "NanningsGames",
         "Casual",
         25
        ],
        [
         "Narko Games",
         "Adventure",
         13
        ],
        [
         "Narko Games",
         "Action",
         13
        ],
        [
         "NedoStudio",
         "Indie",
         13
        ],
        [
         "Neon Doctrine",
         "Indie",
         15
        ],
        [
         "Nightdive Studios",
         "Adventure",
         22
        ],
        [
         "Ningbing Games",
         "Indie",
         13
        ],
        [
         "Ningbing Games",
         "Adventure",
         13
        ],
        [
         "No Gravity Games",
         "Indie",
         20
        ],
        [
         "NovaLogic, THQ Nordic",
         "Action",
         10
        ],
        [
         "OTAKU Plan",
         "RPG",
         28
        ],
        [
         "Out of the Park Developments",
         "Strategy",
         12
        ],
        [
         "Out of the Park Developments",
         "Simulation",
         12
        ],
        [
         "Out of the Park Developments",
         "Sports",
         12
        ],
        [
         "Outright Games Ltd.",
         "Adventure",
         18
        ],
        [
         "PID Games",
         "Indie",
         13
        ],
        [
         "PLAYISM",
         "Indie",
         81
        ],
        [
         "PQube",
         "Adventure",
         25
        ],
        [
         "PROATIV GAMES",
         "Indie",
         15
        ],
        [
         "PROATIV GAMES",
         "Casual",
         15
        ],
        [
         "Paradox Interactive",
         "Strategy",
         56
        ],
        [
         "Paul Connor",
         "Action",
         13
        ],
        [
         "PaulArt",
         "Indie",
         11
        ],
        [
         "Phoenix Games",
         "RPG",
         12
        ],
        [
         "Phoenix Games",
         "Adventure",
         12
        ],
        [
         "Phoenix Online Publishing",
         "Adventure",
         15
        ],
        [
         "Phoenixxx Games",
         "Indie",
         16
        ],
        [
         "Phr00t's Software",
         "Indie",
         13
        ],
        [
         "Piece Of Voxel",
         "Indie",
         79
        ],
        [
         "Pixel Puzzles",
         "Simulation",
         14
        ],
        [
         "Pixel Puzzles",
         "Indie",
         14
        ],
        [
         "Pixel Puzzles",
         "Casual",
         14
        ],
        [
         "Pixeljam",
         "Indie",
         13
        ],
        [
         "PopCap Games, Inc., Electronic Arts",
         "Casual",
         11
        ],
        [
         "PsychoFlux Entertainment",
         "Indie",
         45
        ],
        [
         "Pujia8 Studio",
         "Indie",
         14
        ],
        [
         "Quiet River",
         "Indie",
         23
        ],
        [
         "Qumaron",
         "Casual",
         33
        ],
        [
         "ROSEVERTE",
         "Casual",
         12
        ],
        [
         "ROSEVERTE",
         "Adventure",
         12
        ],
        [
         "ROSEVERTE",
         "Indie",
         12
        ],
        [
         "Randumb Studios",
         "Simulation",
         18
        ],
        [
         "Ratalaika Games S.L.",
         "Indie",
         25
        ],
        [
         "Ravenscourt",
         "Adventure",
         11
        ],
        [
         "Raw Fury",
         "Indie",
         28
        ],
        [
         "Red twice potato",
         "Indie",
         20
        ],
        [
         "Retroism, Nightdive Studios",
         "Simulation",
         13
        ],
        [
         "RewindApp",
         "Indie",
         59
        ],
        [
         "Rex Junior",
         "Indie",
         20
        ],
        [
         "Rex Junior",
         "Casual",
         20
        ],
        [
         "Ripstone",
         "Indie",
         12
        ],
        [
         "Rising Moon Games",
         "Indie",
         11
        ],
        [
         "Rising Moon Games",
         "Casual",
         11
        ],
        [
         "Rising Star Games",
         "Action",
         14
        ],
        [
         "Rockstar Games",
         "Action",
         16
        ],
        [
         "RunServer",
         "Indie",
         19
        ],
        [
         "SA Industry",
         "Indie",
         76
        ],
        [
         "SEEP",
         "Indie",
         12
        ],
        [
         "SMU Guildhall",
         "Free to Play",
         12
        ],
        [
         "SMU Guildhall",
         "Indie",
         12
        ],
        [
         "SNEG",
         "RPG",
         11
        ],
        [
         "SNK CORPORATION",
         "Action",
         24
        ],
        [
         "SOEDESCO",
         "Adventure",
         17
        ],
        [
         "SVGames",
         "Indie",
         11
        ],
        [
         "Sabrina Aridi",
         "Indie",
         12
        ],
        [
         "Sacada",
         "Indie",
         22
        ],
        [
         "Sacada",
         "Casual",
         22
        ],
        [
         "Sacada",
         "Strategy",
         22
        ],
        [
         "Sekai Project",
         "Casual",
         99
        ],
        [
         "Senpai Studios",
         "Indie",
         22
        ],
        [
         "Siberian Mouse",
         "Indie",
         10
        ],
        [
         "Siberian Mouse",
         "Casual",
         10
        ],
        [
         "Silver Cow Studio",
         "Indie",
         11
        ],
        [
         "Silver Cow Studio",
         "Simulation",
         11
        ],
        [
         "Sinned Games",
         "Indie",
         10
        ],
        [
         "Sinned Games",
         "Action",
         10
        ],
        [
         "Skunkape Games",
         "Adventure",
         16
        ],
        [
         "Skybound Games",
         "Adventure",
         10
        ],
        [
         "Snkl Studio",
         "Indie",
         28
        ],
        [
         "Snkl Studio",
         "Casual",
         28
        ],
        [
         "Sokpop Collective",
         "Indie",
         97
        ],
        [
         "Sometimes You",
         "Indie",
         47
        ],
        [
         "SosiskaGames",
         "Indie",
         15
        ],
        [
         "Spike Chunsoft Co., Ltd.",
         "Adventure",
         22
        ],
        [
         "Sprovieri Games",
         "Casual",
         12
        ],
        [
         "Square Enix",
         "Action",
         75
        ],
        [
         "Stardock",
         "Utilities",
         10
        ],
        [
         "Stegalosaurus Game Development",
         "Indie",
         18
        ],
        [
         "Strategy First",
         "Strategy",
         52
        ],
        [
         "Sweet Games",
         "Simulation",
         12
        ],
        [
         "Sweet Games",
         "Indie",
         12
        ],
        [
         "Sweet Games",
         "Adventure",
         12
        ],
        [
         "Sweet Games",
         "Action",
         12
        ],
        [
         "TALESSHOP Co., Ltd.",
         "Indie",
         10
        ],
        [
         "TALESSHOP Co., Ltd.",
         "Casual",
         10
        ],
        [
         "THQ Nordic",
         "Action",
         57
        ],
        [
         "Tamashii",
         "Casual",
         16
        ],
        [
         "Tegridy Made Games",
         "Indie",
         14
        ],
        [
         "Telltale",
         "Adventure",
         15
        ],
        [
         "Telltale Games",
         "Adventure",
         15
        ],
        [
         "Toge Productions",
         "Indie",
         10
        ],
        [
         "Tonguç Bodur",
         "Adventure",
         18
        ],
        [
         "Triority Interactive Novels",
         "Adventure",
         11
        ],
        [
         "Triority Interactive Novels",
         "Casual",
         11
        ],
        [
         "Triority Interactive Novels",
         "Indie",
         11
        ],
        [
         "Tripwire Interactive",
         "Action",
         11
        ],
        [
         "Twin Sails Interactive",
         "Strategy",
         15
        ],
        [
         "United Independent Entertainment",
         "Simulation",
         37
        ],
        [
         "Vaka Game Magazine",
         "Indie",
         10
        ],
        [
         "Valve",
         "Action",
         27
        ],
        [
         "Vidas Salavejus",
         "Indie",
         11
        ],
        [
         "W.T.B.",
         "Indie",
         23
        ],
        [
         "WASABI entertainment",
         "RPG",
         17
        ],
        [
         "Wadjet Eye Games",
         "Adventure",
         15
        ],
        [
         "Wales Interactive",
         "Indie",
         14
        ],
        [
         "Wales Interactive",
         "Adventure",
         14
        ],
        [
         "Walter Machado",
         "Action",
         17
        ],
        [
         "Walter Machado",
         "Indie",
         17
        ],
        [
         "Warfare Studios",
         "Adventure",
         22
        ],
        [
         "Warfare Studios",
         "Casual",
         22
        ],
        [
         "Warfare Studios",
         "Indie",
         22
        ],
        [
         "Warfare Studios",
         "RPG",
         22
        ],
        [
         "Warner Bros. Interactive Entertainment",
         "Action",
         24
        ],
        [
         "Winged Cloud",
         "Simulation",
         28
        ],
        [
         "Winter Wolves",
         "Indie",
         20
        ],
        [
         "XSEED Games, Marvelous USA, Inc.",
         "RPG",
         19
        ],
        [
         "XSEED Games, Marvelous USA, Inc., Marvelous",
         "Action",
         13
        ],
        [
         "Xbox Game Studios",
         "Action",
         27
        ],
        [
         "Xitilon",
         "Indie",
         11
        ],
        [
         "YAW Studios",
         "Indie",
         14
        ],
        [
         "YAW Studios",
         "Casual",
         14
        ],
        [
         "Yai Gameworks",
         "Indie",
         11
        ],
        [
         "Yai Gameworks",
         "Adventure",
         11
        ],
        [
         "Zachtronics",
         "Indie",
         16
        ],
        [
         "Zeiva Inc",
         "Casual",
         11
        ],
        [
         "Zeiva Inc",
         "Indie",
         11
        ],
        [
         "Zeiva Inc",
         "Adventure",
         11
        ],
        [
         "Ziggurat, 612 Games",
         "Action",
         11
        ],
        [
         "aNCHOR Inc.",
         "Adventure",
         10
        ],
        [
         "astragon Entertainment",
         "Simulation",
         18
        ],
        [
         "b-alive gmbh",
         "Indie",
         15
        ],
        [
         "b-alive gmbh",
         "Casual",
         15
        ],
        [
         "b-alive gmbh",
         "Simulation",
         15
        ],
        [
         "baKno Games",
         "Casual",
         19
        ],
        [
         "baKno Games",
         "Indie",
         19
        ],
        [
         "cBlck",
         "Indie",
         15
        ],
        [
         "ebi-hime",
         "Indie",
         22
        ],
        [
         "exosyphen studios",
         "Indie",
         10
        ],
        [
         "familyplay",
         "Casual",
         35
        ],
        [
         "grin robot",
         "Indie",
         10
        ],
        [
         "iWin",
         "Casual",
         12
        ],
        [
         "indiegames3000",
         "Indie",
         17
        ],
        [
         "indienova",
         "Indie",
         11
        ],
        [
         "kazakovstudios",
         "Indie",
         23
        ],
        [
         "khukhrovr",
         "Indie",
         29
        ],
        [
         "kovalevviktor",
         "Indie",
         33
        ],
        [
         "lightUP",
         "Adventure",
         12
        ],
        [
         "lightUP",
         "Indie",
         12
        ],
        [
         "magnussoft",
         "Casual",
         11
        ],
        [
         "meokigame",
         "Indie",
         10
        ],
        [
         "tinyBuild",
         "Indie",
         70
        ],
        [
         "upjers",
         "Casual",
         17
        ],
        [
         "冷笑黑妖",
         "Indie",
         13
        ],
        [
         "杰游科技",
         "Action",
         18
        ],
        [
         "杰游科技",
         "Indie",
         18
        ],
        [
         "杰游科技",
         "Adventure",
         18
        ],
        [
         "橙光游戏",
         "Indie",
         28
        ],
        [
         "橙光游戏",
         "RPG",
         28
        ],
        [
         "橙光游戏",
         "Adventure",
         28
        ],
        [
         "橙光游戏",
         "Casual",
         28
        ],
        [
         "玫瑰工作室",
         "Casual",
         43
        ]
       ],
       "datasetInfos": [],
       "dbfsResultPath": null,
       "isJsonSchema": true,
       "metadata": {},
       "overflow": false,
       "plotOptions": {
        "customPlotOptions": {},
        "displayType": "table",
        "pivotAggregation": null,
        "pivotColumns": null,
        "xColumns": null,
        "yColumns": null
       },
       "removedWidgets": [],
       "schema": [
        {
         "metadata": "{}",
         "name": "publisher",
         "type": "\"string\""
        },
        {
         "metadata": "{}",
         "name": "genre",
         "type": "\"string\""
        },
        {
         "metadata": "{}",
         "name": "count",
         "type": "\"long\""
        }
       ],
       "type": "table"
      }
     },
     "output_type": "display_data"
    }
   ],
   "source": [
    "from pyspark.sql.window import Window\n",
    "\n",
    "w = Window.partitionBy(\"publisher\").orderBy(F.desc(\"count\"))\n",
    "\n",
    "df_ranked = df_genre_publisher_count.withColumn(\"rank\", F.rank().over(w))\n",
    "df_top_genre_per_publisher = df_ranked.filter((F.col(\"rank\") == 1) &  (F.col(\"count\") >= 10)).drop(\"rank\")\n",
    "\n",
    "df_top_genre_per_publisher.display()"
   ]
  },
  {
   "cell_type": "code",
   "execution_count": 0,
   "metadata": {
    "application/vnd.databricks.v1+cell": {
     "cellMetadata": {
      "byteLimit": 2048000,
      "rowLimit": 10000
     },
     "inputWidgets": {},
     "nuid": "b7bc85b1-76bb-4b85-86fd-e44f5df33da3",
     "showTitle": false,
     "tableResultSettingsMap": {},
     "title": ""
    }
   },
   "outputs": [
    {
     "output_type": "display_data",
     "data": {
      "text/html": [
       "<style scoped>\n",
       "  .table-result-container {\n",
       "    max-height: 300px;\n",
       "    overflow: auto;\n",
       "  }\n",
       "  table, th, td {\n",
       "    border: 1px solid black;\n",
       "    border-collapse: collapse;\n",
       "  }\n",
       "  th, td {\n",
       "    padding: 5px;\n",
       "  }\n",
       "  th {\n",
       "    text-align: left;\n",
       "  }\n",
       "</style><div class='table-result-container'><table class='table-result'><thead style='background-color: white'><tr><th>genre</th><th>count</th></tr></thead><tbody><tr><td>Indie</td><td>253</td></tr><tr><td>Casual</td><td>89</td></tr><tr><td>Action</td><td>77</td></tr><tr><td>Adventure</td><td>59</td></tr><tr><td>Simulation</td><td>24</td></tr><tr><td>RPG</td><td>23</td></tr><tr><td>Strategy</td><td>20</td></tr><tr><td>Sports</td><td>5</td></tr><tr><td>Video Production</td><td>2</td></tr><tr><td>Racing</td><td>2</td></tr></tbody></table></div>"
      ]
     },
     "metadata": {
      "application/vnd.databricks.v1+output": {
       "addedWidgets": {},
       "aggData": [],
       "aggError": "",
       "aggOverflow": false,
       "aggSchema": [],
       "aggSeriesLimitReached": false,
       "aggType": "",
       "arguments": {},
       "columnCustomDisplayInfos": {},
       "data": [
        [
         "Indie",
         253
        ],
        [
         "Casual",
         89
        ],
        [
         "Action",
         77
        ],
        [
         "Adventure",
         59
        ],
        [
         "Simulation",
         24
        ],
        [
         "RPG",
         23
        ],
        [
         "Strategy",
         20
        ],
        [
         "Sports",
         5
        ],
        [
         "Video Production",
         2
        ],
        [
         "Racing",
         2
        ]
       ],
       "datasetInfos": [],
       "dbfsResultPath": null,
       "isJsonSchema": true,
       "metadata": {},
       "overflow": false,
       "plotOptions": {
        "customPlotOptions": {},
        "displayType": "table",
        "pivotAggregation": null,
        "pivotColumns": null,
        "xColumns": null,
        "yColumns": null
       },
       "removedWidgets": [],
       "schema": [
        {
         "metadata": "{}",
         "name": "genre",
         "type": "\"string\""
        },
        {
         "metadata": "{}",
         "name": "count",
         "type": "\"long\""
        }
       ],
       "type": "table"
      }
     },
     "output_type": "display_data"
    },
    {
     "output_type": "display_data",
     "data": {
      "text/plain": [
       "Databricks visualization. Run in Databricks to view."
      ]
     },
     "metadata": {
      "application/vnd.databricks.v1.subcommand+json": {
       "baseErrorDetails": null,
       "bindings": {},
       "collapsed": false,
       "command": "%python\n__backend_agg_display_orig = display\n__backend_agg_dfs = []\ndef __backend_agg_display_new(df):\n    __backend_agg_df_modules = [\"pandas.core.frame\", \"databricks.koalas.frame\", \"pyspark.sql.dataframe\", \"pyspark.pandas.frame\", \"pyspark.sql.connect.dataframe\"]\n    if (type(df).__module__ in __backend_agg_df_modules and type(df).__name__ == 'DataFrame') or isinstance(df, list):\n        __backend_agg_dfs.append(df)\n\ndisplay = __backend_agg_display_new\n\ndef __backend_agg_user_code_fn():\n    import base64\n    exec(base64.standard_b64decode(\"ZGZfdG9wX2dlbnJlX3Blcl9wdWJsaXNoZXIuZ3JvdXBCeSgnZ2VucmUnKS5jb3VudCgpXAogICAgLm9yZGVyQnkoRi5kZXNjKCdjb3VudCcpKS5saW1pdCgxMCkuZGlzcGxheSgp\").decode())\n\ntry:\n    # run user code\n    __backend_agg_user_code_fn()\n\n    #reset display function\n    display = __backend_agg_display_orig\n\n    if len(__backend_agg_dfs) > 0:\n        # create a temp view\n        if type(__backend_agg_dfs[0]).__module__ == \"databricks.koalas.frame\":\n            # koalas dataframe\n            __backend_agg_dfs[0].to_spark().createOrReplaceTempView(\"DatabricksView2c12331\")\n        elif type(__backend_agg_dfs[0]).__module__ == \"pandas.core.frame\" or isinstance(__backend_agg_dfs[0], list):\n            # pandas dataframe\n            spark.createDataFrame(__backend_agg_dfs[0]).createOrReplaceTempView(\"DatabricksView2c12331\")\n        else:\n            __backend_agg_dfs[0].createOrReplaceTempView(\"DatabricksView2c12331\")\n        #run backend agg\n        display(spark.sql(\"\"\"WITH q AS (select * from DatabricksView2c12331) SELECT `genre`,SUM(`count`) `column_31eb8573815` FROM q GROUP BY `genre`\"\"\"))\n    else:\n        displayHTML(\"dataframe no longer exists. If you're using dataframe.display(), use display(dataframe) instead.\")\n\n\nfinally:\n    spark.sql(\"drop view if exists DatabricksView2c12331\")\n    display = __backend_agg_display_orig\n    del __backend_agg_display_new\n    del __backend_agg_display_orig\n    del __backend_agg_dfs\n    del __backend_agg_user_code_fn\n\n",
       "commandTitle": "Visualization 1",
       "commandType": "auto",
       "commandVersion": 0,
       "commentThread": [],
       "commentsVisible": false,
       "contentSha256Hex": null,
       "customPlotOptions": {
        "redashChart": [
         {
          "key": "type",
          "value": "CHART"
         },
         {
          "key": "options",
          "value": {
           "alignYAxesAtZero": true,
           "coefficient": 1,
           "columnConfigurationMap": {
            "x": {
             "column": "genre",
             "id": "column_31eb8573814"
            },
            "y": [
             {
              "column": "count",
              "id": "column_31eb8573815",
              "transform": "SUM"
             }
            ]
           },
           "dateTimeFormat": "DD/MM/YYYY HH:mm",
           "direction": {
            "type": "counterclockwise"
           },
           "error_y": {
            "type": "data",
            "visible": true
           },
           "globalSeriesType": "column",
           "isAggregationOn": true,
           "legend": {
            "traceorder": "normal"
           },
           "missingValuesAsZero": true,
           "numberFormat": "0,0.[00000]",
           "percentFormat": "0[.]00%",
           "series": {
            "error_y": {
             "type": "data",
             "visible": true
            },
            "stacking": null
           },
           "seriesOptions": {
            "column_31eb8573815": {
             "color": "#799CFF",
             "name": "count",
             "yAxis": 0
            }
           },
           "showDataLabels": false,
           "sizemode": "diameter",
           "sortX": false,
           "sortY": true,
           "swappedAxes": false,
           "textFormat": "",
           "useAggregationsUi": true,
           "valuesOptions": {},
           "version": 2,
           "xAxis": {
            "labels": {
             "enabled": true
            },
            "type": "-"
           },
           "yAxis": [
            {
             "type": "-"
            },
            {
             "opposite": true,
             "type": "-"
            }
           ]
          }
         }
        ]
       },
       "datasetPreviewNameToCmdIdMap": {},
       "diffDeletes": [],
       "diffInserts": [],
       "displayType": "redashChart",
       "error": null,
       "errorDetails": null,
       "errorSummary": null,
       "errorTraceType": null,
       "finishTime": 0,
       "globalVars": {},
       "guid": "",
       "height": "auto",
       "hideCommandCode": false,
       "hideCommandResult": false,
       "iPythonMetadata": null,
       "inputWidgets": {},
       "isLockedInExamMode": false,
       "latestUser": "a user",
       "latestUserId": null,
       "listResultMetadata": null,
       "metadata": {},
       "nuid": "d81b6277-5fa4-424e-95f8-36c503d03857",
       "origId": 0,
       "parentHierarchy": [],
       "pivotAggregation": null,
       "pivotColumns": null,
       "position": 20.0,
       "resultDbfsErrorMessage": null,
       "resultDbfsStatus": "INLINED_IN_TREE",
       "results": null,
       "showCommandTitle": false,
       "startTime": 0,
       "state": "input",
       "streamStates": {},
       "subcommandOptions": {
        "queryPlan": {
         "groups": [
          {
           "column": "genre",
           "type": "column"
          }
         ],
         "selects": [
          {
           "column": "genre",
           "type": "column"
          },
          {
           "alias": "column_31eb8573815",
           "args": [
            {
             "column": "count",
             "type": "column"
            }
           ],
           "function": "SUM",
           "type": "function"
          }
         ]
        }
       },
       "submitTime": 0,
       "subtype": "tableResultSubCmd.visualization",
       "tableResultIndex": 0,
       "tableResultSettingsMap": {},
       "useConsistentColors": false,
       "version": "CommandV1",
       "width": "auto",
       "workflows": [],
       "xColumns": null,
       "yColumns": null
      }
     },
     "output_type": "display_data"
    }
   ],
   "source": [
    "df_top_genre_per_publisher.groupBy('genre').count()\\\n",
    "    .orderBy(F.desc('count')).limit(10).display()"
   ]
  },
  {
   "cell_type": "markdown",
   "metadata": {
    "application/vnd.databricks.v1+cell": {
     "cellMetadata": {},
     "inputWidgets": {},
     "nuid": "10959c30-cf7b-40ab-b548-a8dd09bd91c1",
     "showTitle": false,
     "tableResultSettingsMap": {},
     "title": ""
    }
   },
   "source": [
    "Le meilleur genre pour les editeurs sont les genre indépendants"
   ]
  },
  {
   "cell_type": "markdown",
   "metadata": {
    "application/vnd.databricks.v1+cell": {
     "cellMetadata": {},
     "inputWidgets": {},
     "nuid": "32177a12-a704-4d86-9356-93ba99a7e6ca",
     "showTitle": false,
     "tableResultSettingsMap": {},
     "title": ""
    }
   },
   "source": [
    "### What are the most lucrative genres?\n",
    "### \n"
   ]
  },
  {
   "cell_type": "code",
   "execution_count": 0,
   "metadata": {
    "application/vnd.databricks.v1+cell": {
     "cellMetadata": {
      "byteLimit": 2048000,
      "rowLimit": 10000
     },
     "inputWidgets": {},
     "nuid": "fa50c4af-d2ba-4b98-b8a8-a0bcb192c2c4",
     "showTitle": false,
     "tableResultSettingsMap": {},
     "title": ""
    }
   },
   "outputs": [
    {
     "output_type": "display_data",
     "data": {
      "text/html": [
       "<style scoped>\n",
       "  .table-result-container {\n",
       "    max-height: 300px;\n",
       "    overflow: auto;\n",
       "  }\n",
       "  table, th, td {\n",
       "    border: 1px solid black;\n",
       "    border-collapse: collapse;\n",
       "  }\n",
       "  th, td {\n",
       "    padding: 5px;\n",
       "  }\n",
       "  th {\n",
       "    text-align: left;\n",
       "  }\n",
       "</style><div class='table-result-container'><table class='table-result'><thead style='background-color: white'><tr><th>price</th><th>owners</th><th>genre</th><th>owners_avg</th></tr></thead><tbody><tr><td>9.99</td><td>List(10000000, 20000000)</td><td>Action</td><td>1.5E7</td></tr><tr><td>9.99</td><td>List(0, 20000)</td><td>Action</td><td>10000.0</td></tr><tr><td>9.99</td><td>List(0, 20000)</td><td>Adventure</td><td>10000.0</td></tr><tr><td>9.99</td><td>List(0, 20000)</td><td>Indie</td><td>10000.0</td></tr><tr><td>5.99</td><td>List(200000, 500000)</td><td>Adventure</td><td>350000.0</td></tr><tr><td>5.99</td><td>List(200000, 500000)</td><td>Indie</td><td>350000.0</td></tr><tr><td>5.99</td><td>List(200000, 500000)</td><td>RPG</td><td>350000.0</td></tr><tr><td>5.99</td><td>List(200000, 500000)</td><td>Strategy</td><td>350000.0</td></tr><tr><td>19.99</td><td>List(100000, 200000)</td><td>Action</td><td>150000.0</td></tr><tr><td>19.99</td><td>List(100000, 200000)</td><td>Indie</td><td>150000.0</td></tr></tbody></table></div>"
      ]
     },
     "metadata": {
      "application/vnd.databricks.v1+output": {
       "addedWidgets": {},
       "aggData": [],
       "aggError": "",
       "aggOverflow": false,
       "aggSchema": [],
       "aggSeriesLimitReached": false,
       "aggType": "",
       "arguments": {},
       "columnCustomDisplayInfos": {},
       "data": [
        [
         "9.99",
         [
          10000000,
          20000000
         ],
         "Action",
         1.5E7
        ],
        [
         "9.99",
         [
          0,
          20000
         ],
         "Action",
         10000.0
        ],
        [
         "9.99",
         [
          0,
          20000
         ],
         "Adventure",
         10000.0
        ],
        [
         "9.99",
         [
          0,
          20000
         ],
         "Indie",
         10000.0
        ],
        [
         "5.99",
         [
          200000,
          500000
         ],
         "Adventure",
         350000.0
        ],
        [
         "5.99",
         [
          200000,
          500000
         ],
         "Indie",
         350000.0
        ],
        [
         "5.99",
         [
          200000,
          500000
         ],
         "RPG",
         350000.0
        ],
        [
         "5.99",
         [
          200000,
          500000
         ],
         "Strategy",
         350000.0
        ],
        [
         "19.99",
         [
          100000,
          200000
         ],
         "Action",
         150000.0
        ],
        [
         "19.99",
         [
          100000,
          200000
         ],
         "Indie",
         150000.0
        ]
       ],
       "datasetInfos": [],
       "dbfsResultPath": null,
       "isJsonSchema": true,
       "metadata": {},
       "overflow": false,
       "plotOptions": {
        "customPlotOptions": {},
        "displayType": "table",
        "pivotAggregation": null,
        "pivotColumns": null,
        "xColumns": null,
        "yColumns": null
       },
       "removedWidgets": [],
       "schema": [
        {
         "metadata": "{}",
         "name": "price",
         "type": "\"decimal(10,2)\""
        },
        {
         "metadata": "{}",
         "name": "owners",
         "type": "{\"type\":\"array\",\"elementType\":\"integer\",\"containsNull\":true}"
        },
        {
         "metadata": "{}",
         "name": "genre",
         "type": "\"string\""
        },
        {
         "metadata": "{}",
         "name": "owners_avg",
         "type": "\"double\""
        }
       ],
       "type": "table"
      }
     },
     "output_type": "display_data"
    }
   ],
   "source": [
    "from pyspark.sql.functions import regexp_replace, expr\n",
    "\n",
    "df_price_genres = df_genres.select('price', 'owners', F.explode('genre').alias('genre'))\n",
    "df_price_genres = df_price_genres.withColumn(\"price\", (F.col(\"price\") / 100).cast(\"decimal(10,2)\"))\n",
    "df_price_genres = df_price_genres.withColumn(\"owners\", regexp_replace(df_price_genres[\"owners\"], \",\", \"\")) \\\n",
    "       .withColumn(\"owners\", expr(\"split(owners, ' \\\\.. ')\"))\n",
    "\n",
    "df_price_genres = df_price_genres.withColumn(\"owners\", expr(\"transform(owners, x -> cast(x as int))\"))\n",
    "df_price_genres = df_price_genres.withColumn(\n",
    "    \"owners_avg\",\n",
    "    expr(\"aggregate(owners, 0, (acc, x) -> acc + x) / size(owners)\")\n",
    ")\n",
    "\n",
    "df_price_genres.limit(10).display()"
   ]
  },
  {
   "cell_type": "code",
   "execution_count": 0,
   "metadata": {
    "application/vnd.databricks.v1+cell": {
     "cellMetadata": {
      "byteLimit": 2048000,
      "rowLimit": 10000
     },
     "inputWidgets": {},
     "nuid": "3c71230c-4578-4916-9ab8-332157a9f060",
     "showTitle": false,
     "tableResultSettingsMap": {},
     "title": ""
    }
   },
   "outputs": [
    {
     "output_type": "display_data",
     "data": {
      "text/html": [
       "<style scoped>\n",
       "  .table-result-container {\n",
       "    max-height: 300px;\n",
       "    overflow: auto;\n",
       "  }\n",
       "  table, th, td {\n",
       "    border: 1px solid black;\n",
       "    border-collapse: collapse;\n",
       "  }\n",
       "  th, td {\n",
       "    padding: 5px;\n",
       "  }\n",
       "  th {\n",
       "    text-align: left;\n",
       "  }\n",
       "</style><div class='table-result-container'><table class='table-result'><thead style='background-color: white'><tr><th>price</th><th>owners</th><th>genre</th><th>owners_avg</th><th>financial_return</th></tr></thead><tbody><tr><td>9.99</td><td>List(10000000, 20000000)</td><td>Action</td><td>1.5E7</td><td>1.4985E8</td></tr><tr><td>9.99</td><td>List(0, 20000)</td><td>Action</td><td>10000.0</td><td>99900.0</td></tr><tr><td>9.99</td><td>List(0, 20000)</td><td>Adventure</td><td>10000.0</td><td>99900.0</td></tr><tr><td>9.99</td><td>List(0, 20000)</td><td>Indie</td><td>10000.0</td><td>99900.0</td></tr><tr><td>5.99</td><td>List(200000, 500000)</td><td>Adventure</td><td>350000.0</td><td>2096500.0</td></tr><tr><td>5.99</td><td>List(200000, 500000)</td><td>Indie</td><td>350000.0</td><td>2096500.0</td></tr><tr><td>5.99</td><td>List(200000, 500000)</td><td>RPG</td><td>350000.0</td><td>2096500.0</td></tr><tr><td>5.99</td><td>List(200000, 500000)</td><td>Strategy</td><td>350000.0</td><td>2096500.0</td></tr><tr><td>19.99</td><td>List(100000, 200000)</td><td>Action</td><td>150000.0</td><td>2998499.9999999995</td></tr><tr><td>19.99</td><td>List(100000, 200000)</td><td>Indie</td><td>150000.0</td><td>2998499.9999999995</td></tr></tbody></table></div>"
      ]
     },
     "metadata": {
      "application/vnd.databricks.v1+output": {
       "addedWidgets": {},
       "aggData": [],
       "aggError": "",
       "aggOverflow": false,
       "aggSchema": [],
       "aggSeriesLimitReached": false,
       "aggType": "",
       "arguments": {},
       "columnCustomDisplayInfos": {},
       "data": [
        [
         "9.99",
         [
          10000000,
          20000000
         ],
         "Action",
         1.5E7,
         1.4985E8
        ],
        [
         "9.99",
         [
          0,
          20000
         ],
         "Action",
         10000.0,
         99900.0
        ],
        [
         "9.99",
         [
          0,
          20000
         ],
         "Adventure",
         10000.0,
         99900.0
        ],
        [
         "9.99",
         [
          0,
          20000
         ],
         "Indie",
         10000.0,
         99900.0
        ],
        [
         "5.99",
         [
          200000,
          500000
         ],
         "Adventure",
         350000.0,
         2096500.0
        ],
        [
         "5.99",
         [
          200000,
          500000
         ],
         "Indie",
         350000.0,
         2096500.0
        ],
        [
         "5.99",
         [
          200000,
          500000
         ],
         "RPG",
         350000.0,
         2096500.0
        ],
        [
         "5.99",
         [
          200000,
          500000
         ],
         "Strategy",
         350000.0,
         2096500.0
        ],
        [
         "19.99",
         [
          100000,
          200000
         ],
         "Action",
         150000.0,
         2998499.9999999995
        ],
        [
         "19.99",
         [
          100000,
          200000
         ],
         "Indie",
         150000.0,
         2998499.9999999995
        ]
       ],
       "datasetInfos": [],
       "dbfsResultPath": null,
       "isJsonSchema": true,
       "metadata": {},
       "overflow": false,
       "plotOptions": {
        "customPlotOptions": {},
        "displayType": "table",
        "pivotAggregation": null,
        "pivotColumns": null,
        "xColumns": null,
        "yColumns": null
       },
       "removedWidgets": [],
       "schema": [
        {
         "metadata": "{}",
         "name": "price",
         "type": "\"decimal(10,2)\""
        },
        {
         "metadata": "{}",
         "name": "owners",
         "type": "{\"type\":\"array\",\"elementType\":\"integer\",\"containsNull\":true}"
        },
        {
         "metadata": "{}",
         "name": "genre",
         "type": "\"string\""
        },
        {
         "metadata": "{}",
         "name": "owners_avg",
         "type": "\"double\""
        },
        {
         "metadata": "{}",
         "name": "financial_return",
         "type": "\"double\""
        }
       ],
       "type": "table"
      }
     },
     "output_type": "display_data"
    }
   ],
   "source": [
    "df_price_genres = df_price_genres.withColumn(\"financial_return\", F.col('price') * F.col('owners_avg'))\n",
    "\n",
    "df_price_genres.limit(10).display()"
   ]
  },
  {
   "cell_type": "code",
   "execution_count": 0,
   "metadata": {
    "application/vnd.databricks.v1+cell": {
     "cellMetadata": {
      "byteLimit": 2048000,
      "rowLimit": 10000
     },
     "inputWidgets": {},
     "nuid": "8d6804bd-89fa-4623-a755-18950a5bea85",
     "showTitle": false,
     "tableResultSettingsMap": {},
     "title": ""
    }
   },
   "outputs": [
    {
     "output_type": "display_data",
     "data": {
      "text/html": [
       "<style scoped>\n",
       "  .table-result-container {\n",
       "    max-height: 300px;\n",
       "    overflow: auto;\n",
       "  }\n",
       "  table, th, td {\n",
       "    border: 1px solid black;\n",
       "    border-collapse: collapse;\n",
       "  }\n",
       "  th, td {\n",
       "    padding: 5px;\n",
       "  }\n",
       "  th {\n",
       "    text-align: left;\n",
       "  }\n",
       "</style><div class='table-result-container'><table class='table-result'><thead style='background-color: white'><tr><th>genre</th><th>financial_return_per_genre</th></tr></thead><tbody><tr><td>Action</td><td>5.87564541E10</td></tr><tr><td>Adventure</td><td>3.724573845E10</td></tr><tr><td>Indie</td><td>3.23465771E10</td></tr><tr><td>RPG</td><td>2.71731431E10</td></tr><tr><td>Strategy</td><td>2.015004105E10</td></tr><tr><td>Simulation</td><td>1.876974955E10</td></tr><tr><td>Casual</td><td>8.08095665E9</td></tr><tr><td>Massively Multiplayer</td><td>5.93015775E9</td></tr><tr><td>Early Access</td><td>5.45866145E9</td></tr><tr><td>Sports</td><td>3.14989735E9</td></tr></tbody></table></div>"
      ]
     },
     "metadata": {
      "application/vnd.databricks.v1+output": {
       "addedWidgets": {},
       "aggData": [],
       "aggError": "",
       "aggOverflow": false,
       "aggSchema": [],
       "aggSeriesLimitReached": false,
       "aggType": "",
       "arguments": {},
       "columnCustomDisplayInfos": {},
       "data": [
        [
         "Action",
         5.87564541E10
        ],
        [
         "Adventure",
         3.724573845E10
        ],
        [
         "Indie",
         3.23465771E10
        ],
        [
         "RPG",
         2.71731431E10
        ],
        [
         "Strategy",
         2.015004105E10
        ],
        [
         "Simulation",
         1.876974955E10
        ],
        [
         "Casual",
         8.08095665E9
        ],
        [
         "Massively Multiplayer",
         5.93015775E9
        ],
        [
         "Early Access",
         5.45866145E9
        ],
        [
         "Sports",
         3.14989735E9
        ]
       ],
       "datasetInfos": [],
       "dbfsResultPath": null,
       "isJsonSchema": true,
       "metadata": {},
       "overflow": false,
       "plotOptions": {
        "customPlotOptions": {},
        "displayType": "table",
        "pivotAggregation": null,
        "pivotColumns": null,
        "xColumns": null,
        "yColumns": null
       },
       "removedWidgets": [],
       "schema": [
        {
         "metadata": "{}",
         "name": "genre",
         "type": "\"string\""
        },
        {
         "metadata": "{}",
         "name": "financial_return_per_genre",
         "type": "\"double\""
        }
       ],
       "type": "table"
      }
     },
     "output_type": "display_data"
    },
    {
     "output_type": "display_data",
     "data": {
      "text/plain": [
       "Databricks visualization. Run in Databricks to view."
      ]
     },
     "metadata": {
      "application/vnd.databricks.v1.subcommand+json": {
       "baseErrorDetails": null,
       "bindings": {},
       "collapsed": false,
       "command": "%python\n__backend_agg_display_orig = display\n__backend_agg_dfs = []\ndef __backend_agg_display_new(df):\n    __backend_agg_df_modules = [\"pandas.core.frame\", \"databricks.koalas.frame\", \"pyspark.sql.dataframe\", \"pyspark.pandas.frame\", \"pyspark.sql.connect.dataframe\"]\n    if (type(df).__module__ in __backend_agg_df_modules and type(df).__name__ == 'DataFrame') or isinstance(df, list):\n        __backend_agg_dfs.append(df)\n\ndisplay = __backend_agg_display_new\n\ndef __backend_agg_user_code_fn():\n    import base64\n    exec(base64.standard_b64decode(\"bHVjcmF0aXZlX2dlbnJlID0gZGZfcHJpY2VfZ2VucmVzLmdyb3VwYnkoJ2dlbnJlJykuc3VtKCdmaW5hbmNpYWxfcmV0dXJuJylcCiAgICAud2l0aENvbHVtblJlbmFtZWQoInN1bShmaW5hbmNpYWxfcmV0dXJuKSIsICJmaW5hbmNpYWxfcmV0dXJuX3Blcl9nZW5yZSIpXAogICAgLm9yZGVyQnkoRi5kZXNjKCdmaW5hbmNpYWxfcmV0dXJuX3Blcl9nZW5yZScpKQoKbHVjcmF0aXZlX2dlbnJlLmxpbWl0KDEwKS5kaXNwbGF5KCk=\").decode())\n\ntry:\n    # run user code\n    __backend_agg_user_code_fn()\n\n    #reset display function\n    display = __backend_agg_display_orig\n\n    if len(__backend_agg_dfs) > 0:\n        # create a temp view\n        if type(__backend_agg_dfs[0]).__module__ == \"databricks.koalas.frame\":\n            # koalas dataframe\n            __backend_agg_dfs[0].to_spark().createOrReplaceTempView(\"DatabricksView6cbdd7f\")\n        elif type(__backend_agg_dfs[0]).__module__ == \"pandas.core.frame\" or isinstance(__backend_agg_dfs[0], list):\n            # pandas dataframe\n            spark.createDataFrame(__backend_agg_dfs[0]).createOrReplaceTempView(\"DatabricksView6cbdd7f\")\n        else:\n            __backend_agg_dfs[0].createOrReplaceTempView(\"DatabricksView6cbdd7f\")\n        #run backend agg\n        display(spark.sql(\"\"\"WITH q AS (select * from DatabricksView6cbdd7f) SELECT `genre`,SUM(`financial_return_per_genre`) `column_31eb8573314` FROM q GROUP BY `genre`\"\"\"))\n    else:\n        displayHTML(\"dataframe no longer exists. If you're using dataframe.display(), use display(dataframe) instead.\")\n\n\nfinally:\n    spark.sql(\"drop view if exists DatabricksView6cbdd7f\")\n    display = __backend_agg_display_orig\n    del __backend_agg_display_new\n    del __backend_agg_display_orig\n    del __backend_agg_dfs\n    del __backend_agg_user_code_fn\n\n",
       "commandTitle": "Visualization 1",
       "commandType": "auto",
       "commandVersion": 0,
       "commentThread": [],
       "commentsVisible": false,
       "contentSha256Hex": null,
       "customPlotOptions": {
        "redashChart": [
         {
          "key": "type",
          "value": "CHART"
         },
         {
          "key": "options",
          "value": {
           "alignYAxesAtZero": true,
           "coefficient": 1,
           "columnConfigurationMap": {
            "x": {
             "column": "genre",
             "id": "column_31eb8573313"
            },
            "y": [
             {
              "column": "financial_return_per_genre",
              "id": "column_31eb8573314",
              "transform": "SUM"
             }
            ]
           },
           "dateTimeFormat": "DD/MM/YYYY HH:mm",
           "direction": {
            "type": "counterclockwise"
           },
           "error_y": {
            "type": "data",
            "visible": true
           },
           "globalSeriesType": "column",
           "isAggregationOn": true,
           "legend": {
            "traceorder": "normal"
           },
           "missingValuesAsZero": true,
           "numberFormat": "0,0.[00000]",
           "percentFormat": "0[.]00%",
           "series": {
            "error_y": {
             "type": "data",
             "visible": true
            },
            "stacking": null
           },
           "seriesOptions": {
            "column_31eb8573314": {
             "color": "#3BD973",
             "name": "financial_return_per_genre",
             "type": "column",
             "yAxis": 0
            }
           },
           "showDataLabels": false,
           "sizemode": "diameter",
           "sortX": false,
           "sortY": true,
           "swappedAxes": false,
           "textFormat": "",
           "useAggregationsUi": true,
           "valuesOptions": {},
           "version": 2,
           "xAxis": {
            "labels": {
             "enabled": true
            },
            "type": "-"
           },
           "yAxis": [
            {
             "type": "-"
            },
            {
             "opposite": true,
             "type": "-"
            }
           ]
          }
         }
        ]
       },
       "datasetPreviewNameToCmdIdMap": {},
       "diffDeletes": [],
       "diffInserts": [],
       "displayType": "redashChart",
       "error": null,
       "errorDetails": null,
       "errorSummary": null,
       "errorTraceType": null,
       "finishTime": 0,
       "globalVars": {},
       "guid": "",
       "height": "auto",
       "hideCommandCode": false,
       "hideCommandResult": false,
       "iPythonMetadata": null,
       "inputWidgets": {},
       "isLockedInExamMode": false,
       "latestUser": "a user",
       "latestUserId": null,
       "listResultMetadata": null,
       "metadata": {},
       "nuid": "d3e78c55-22aa-4e8a-b81b-5918d40f6a89",
       "origId": 0,
       "parentHierarchy": [],
       "pivotAggregation": null,
       "pivotColumns": null,
       "position": 24.0,
       "resultDbfsErrorMessage": null,
       "resultDbfsStatus": "INLINED_IN_TREE",
       "results": null,
       "showCommandTitle": false,
       "startTime": 0,
       "state": "input",
       "streamStates": {},
       "subcommandOptions": {
        "queryPlan": {
         "groups": [
          {
           "column": "genre",
           "type": "column"
          }
         ],
         "selects": [
          {
           "column": "genre",
           "type": "column"
          },
          {
           "alias": "column_31eb8573314",
           "args": [
            {
             "column": "financial_return_per_genre",
             "type": "column"
            }
           ],
           "function": "SUM",
           "type": "function"
          }
         ]
        }
       },
       "submitTime": 0,
       "subtype": "tableResultSubCmd.visualization",
       "tableResultIndex": 0,
       "tableResultSettingsMap": {},
       "useConsistentColors": false,
       "version": "CommandV1",
       "width": "auto",
       "workflows": [],
       "xColumns": null,
       "yColumns": null
      }
     },
     "output_type": "display_data"
    }
   ],
   "source": [
    "lucrative_genre = df_price_genres.groupby('genre').sum('financial_return')\\\n",
    "    .withColumnRenamed(\"sum(financial_return)\", \"financial_return_per_genre\")\\\n",
    "    .orderBy(F.desc('financial_return_per_genre'))\n",
    "\n",
    "lucrative_genre.limit(10).display()"
   ]
  },
  {
   "cell_type": "markdown",
   "metadata": {
    "application/vnd.databricks.v1+cell": {
     "cellMetadata": {},
     "inputWidgets": {},
     "nuid": "3a36d0aa-a70a-449c-9160-70148e335bcf",
     "showTitle": false,
     "tableResultSettingsMap": {},
     "title": ""
    }
   },
   "source": [
    "Les jeux d'action génèrent le plus de revenus"
   ]
  },
  {
   "cell_type": "code",
   "execution_count": 0,
   "metadata": {
    "application/vnd.databricks.v1+cell": {
     "cellMetadata": {},
     "inputWidgets": {},
     "nuid": "9da81e3f-96f1-457e-b8ff-6db77e19fc1f",
     "showTitle": false,
     "tableResultSettingsMap": {},
     "title": ""
    }
   },
   "outputs": [],
   "source": []
  }
 ],
 "metadata": {
  "application/vnd.databricks.v1+notebook": {
   "computePreferences": null,
   "dashboards": [],
   "environmentMetadata": {
    "base_environment": "",
    "environment_version": "1"
   },
   "inputWidgetPreferences": null,
   "language": "python",
   "notebookMetadata": {
    "pythonIndentUnit": 4
   },
   "notebookName": "Steam - Part 3 - Genres Analysis",
   "widgets": {}
  }
 },
 "nbformat": 4,
 "nbformat_minor": 0
}